{
 "cells": [
  {
   "cell_type": "markdown",
   "id": "5e9e9d67",
   "metadata": {},
   "source": [
    "## Network Intrusion Detection System (NIDS) - Random Forest Classifier\n",
    "NSL-KDD Dataset Multi-class Classification"
   ]
  },
  {
   "cell_type": "markdown",
   "id": "5cb83620",
   "metadata": {},
   "source": [
    "# 1. Import Required Libraries"
   ]
  },
  {
   "cell_type": "markdown",
   "id": "0a091f97",
   "metadata": {},
   "source": [
    "## Core libraries"
   ]
  },
  {
   "cell_type": "code",
   "execution_count": 1,
   "id": "7cd3b382",
   "metadata": {},
   "outputs": [],
   "source": [
    "import numpy as np\n",
    "import pandas as pd\n",
    "import matplotlib.pyplot as plt\n",
    "import seaborn as sns\n",
    "import warnings\n",
    "warnings.filterwarnings('ignore')"
   ]
  },
  {
   "cell_type": "markdown",
   "id": "22a98e2c",
   "metadata": {},
   "source": [
    "## Preprocessing"
   ]
  },
  {
   "cell_type": "code",
   "execution_count": 2,
   "id": "0439039b",
   "metadata": {},
   "outputs": [],
   "source": [
    "from sklearn.preprocessing import LabelEncoder, MinMaxScaler, StandardScaler"
   ]
  },
  {
   "cell_type": "markdown",
   "id": "6f7d783f",
   "metadata": {},
   "source": [
    "## Model selection and validation"
   ]
  },
  {
   "cell_type": "code",
   "execution_count": 3,
   "id": "6b2324df",
   "metadata": {},
   "outputs": [],
   "source": [
    "\n",
    "from sklearn.model_selection import train_test_split, StratifiedKFold"
   ]
  },
  {
   "cell_type": "markdown",
   "id": "c9e15b4e",
   "metadata": {},
   "source": [
    "## Machine learning models"
   ]
  },
  {
   "cell_type": "code",
   "execution_count": 4,
   "id": "5e367b42",
   "metadata": {},
   "outputs": [],
   "source": [
    "\n",
    "from sklearn.ensemble import RandomForestClassifier\n",
    "from sklearn.linear_model import LogisticRegression\n",
    "from sklearn.svm import SVC\n",
    "from sklearn.tree import DecisionTreeClassifier"
   ]
  },
  {
   "cell_type": "markdown",
   "id": "662ea97e",
   "metadata": {},
   "source": [
    "## Performance evaluation"
   ]
  },
  {
   "cell_type": "code",
   "execution_count": 5,
   "id": "1775357f",
   "metadata": {},
   "outputs": [
    {
     "name": "stdout",
     "output_type": "stream",
     "text": [
      "All libraries imported successfully!\n"
     ]
    }
   ],
   "source": [
    "\n",
    "from sklearn.metrics import (accuracy_score, precision_score, f1_score, recall_score,\n",
    "                           multilabel_confusion_matrix, roc_curve, classification_report,\n",
    "                           confusion_matrix)\n",
    "\n",
    "print(\"All libraries imported successfully!\")"
   ]
  },
  {
   "cell_type": "markdown",
   "id": "2b69232f",
   "metadata": {},
   "source": [
    "# 2. Load and Explore Dataset"
   ]
  },
  {
   "cell_type": "markdown",
   "id": "3010a57c",
   "metadata": {},
   "source": [
    "\n",
    "## Load datasets"
   ]
  },
  {
   "cell_type": "code",
   "execution_count": 6,
   "id": "b6d1be2b",
   "metadata": {},
   "outputs": [
    {
     "name": "stdout",
     "output_type": "stream",
     "text": [
      "✓ Datasets loaded successfully!\n",
      "Training dataset shape: (4047, 43)\n",
      "Test dataset shape: (22544, 43)\n"
     ]
    }
   ],
   "source": [
    "try:\n",
    "    train_dataset = pd.read_csv('NSL-KDD__Multiclass_Classification_Dataset.csv')\n",
    "    test_dataset = pd.read_csv('KDDTest+.csv')\n",
    "    print(\"✓ Datasets loaded successfully!\")\n",
    "    print(f\"Training dataset shape: {train_dataset.shape}\")\n",
    "    print(f\"Test dataset shape: {test_dataset.shape}\")\n",
    "except FileNotFoundError as e:\n",
    "    print(f\"❌ Error loading datasets: {e}\")\n",
    "    print(\"Please ensure the CSV files are in the correct directory\")\n",
    "    # You can uncomment the line below if you want the notebook to stop here\n",
    "    # raise\n"
   ]
  },
  {
   "cell_type": "markdown",
   "id": "6bdbd4f5",
   "metadata": {},
   "source": [
    "## Display basic information about the datasets"
   ]
  },
  {
   "cell_type": "code",
   "execution_count": 7,
   "id": "1b6b74b6",
   "metadata": {},
   "outputs": [
    {
     "name": "stdout",
     "output_type": "stream",
     "text": [
      "=== Training Dataset Info ===\n",
      "<class 'pandas.core.frame.DataFrame'>\n",
      "RangeIndex: 4047 entries, 0 to 4046\n",
      "Data columns (total 43 columns):\n",
      " #   Column                       Non-Null Count  Dtype  \n",
      "---  ------                       --------------  -----  \n",
      " 0   duration                     4047 non-null   int64  \n",
      " 1   protocol_type                4047 non-null   object \n",
      " 2   service                      4047 non-null   object \n",
      " 3   flag                         4047 non-null   object \n",
      " 4   src_bytes                    4047 non-null   int64  \n",
      " 5   dst_bytes                    4047 non-null   int64  \n",
      " 6   land                         4047 non-null   int64  \n",
      " 7   wrong_fragment               4047 non-null   int64  \n",
      " 8   urgent                       4047 non-null   int64  \n",
      " 9   hot                          4047 non-null   int64  \n",
      " 10  num_failed_logins            4047 non-null   int64  \n",
      " 11  logged_in                    4047 non-null   int64  \n",
      " 12  num_compromised              4047 non-null   int64  \n",
      " 13  root_shell                   4047 non-null   int64  \n",
      " 14  su_attempted                 4047 non-null   int64  \n",
      " 15  num_root                     4047 non-null   int64  \n",
      " 16  num_file_creations           4047 non-null   int64  \n",
      " 17  num_shells                   4047 non-null   int64  \n",
      " 18  num_access_files             4047 non-null   int64  \n",
      " 19  num_outbound_cmds            4047 non-null   int64  \n",
      " 20  is_host_login                4047 non-null   int64  \n",
      " 21  is_guest_login               4047 non-null   int64  \n",
      " 22  count                        4047 non-null   int64  \n",
      " 23  srv_count                    4047 non-null   int64  \n",
      " 24  serror_rate                  4047 non-null   float64\n",
      " 25  srv_serror_rate              4047 non-null   float64\n",
      " 26  rerror_rate                  4047 non-null   float64\n",
      " 27  srv_rerror_rate              4047 non-null   float64\n",
      " 28  same_srv_rate                4047 non-null   float64\n",
      " 29  diff_srv_rate                4047 non-null   float64\n",
      " 30  srv_diff_host_rate           4047 non-null   float64\n",
      " 31  dst_host_count               4047 non-null   int64  \n",
      " 32  dst_host_srv_count           4047 non-null   int64  \n",
      " 33  dst_host_same_srv_rate       4047 non-null   float64\n",
      " 34  dst_host_diff_srv_rate       4047 non-null   float64\n",
      " 35  dst_host_same_src_port_rate  4047 non-null   float64\n",
      " 36  dst_host_srv_diff_host_rate  4047 non-null   float64\n",
      " 37  dst_host_serror_rate         4047 non-null   float64\n",
      " 38  dst_host_srv_serror_rate     4047 non-null   float64\n",
      " 39  dst_host_rerror_rate         4047 non-null   float64\n",
      " 40  dst_host_srv_rerror_rate     4047 non-null   float64\n",
      " 41  class_name                   4047 non-null   object \n",
      " 42  difficultylevel              4047 non-null   int64  \n",
      "dtypes: float64(15), int64(24), object(4)\n",
      "memory usage: 1.3+ MB\n",
      "None\n",
      "\n",
      "=== Training Dataset - First 5 rows ===\n"
     ]
    },
    {
     "data": {
      "text/html": [
       "<div>\n",
       "<style scoped>\n",
       "    .dataframe tbody tr th:only-of-type {\n",
       "        vertical-align: middle;\n",
       "    }\n",
       "\n",
       "    .dataframe tbody tr th {\n",
       "        vertical-align: top;\n",
       "    }\n",
       "\n",
       "    .dataframe thead th {\n",
       "        text-align: right;\n",
       "    }\n",
       "</style>\n",
       "<table border=\"1\" class=\"dataframe\">\n",
       "  <thead>\n",
       "    <tr style=\"text-align: right;\">\n",
       "      <th></th>\n",
       "      <th>duration</th>\n",
       "      <th>protocol_type</th>\n",
       "      <th>service</th>\n",
       "      <th>flag</th>\n",
       "      <th>src_bytes</th>\n",
       "      <th>dst_bytes</th>\n",
       "      <th>land</th>\n",
       "      <th>wrong_fragment</th>\n",
       "      <th>urgent</th>\n",
       "      <th>hot</th>\n",
       "      <th>...</th>\n",
       "      <th>dst_host_same_srv_rate</th>\n",
       "      <th>dst_host_diff_srv_rate</th>\n",
       "      <th>dst_host_same_src_port_rate</th>\n",
       "      <th>dst_host_srv_diff_host_rate</th>\n",
       "      <th>dst_host_serror_rate</th>\n",
       "      <th>dst_host_srv_serror_rate</th>\n",
       "      <th>dst_host_rerror_rate</th>\n",
       "      <th>dst_host_srv_rerror_rate</th>\n",
       "      <th>class_name</th>\n",
       "      <th>difficultylevel</th>\n",
       "    </tr>\n",
       "  </thead>\n",
       "  <tbody>\n",
       "    <tr>\n",
       "      <th>0</th>\n",
       "      <td>0</td>\n",
       "      <td>tcp</td>\n",
       "      <td>ftp</td>\n",
       "      <td>S0</td>\n",
       "      <td>0</td>\n",
       "      <td>0</td>\n",
       "      <td>0</td>\n",
       "      <td>0</td>\n",
       "      <td>0</td>\n",
       "      <td>0</td>\n",
       "      <td>...</td>\n",
       "      <td>0.07</td>\n",
       "      <td>0.06</td>\n",
       "      <td>0.0</td>\n",
       "      <td>0.0</td>\n",
       "      <td>1.0</td>\n",
       "      <td>1.0</td>\n",
       "      <td>0.0</td>\n",
       "      <td>0.0</td>\n",
       "      <td>DoS</td>\n",
       "      <td>19</td>\n",
       "    </tr>\n",
       "    <tr>\n",
       "      <th>1</th>\n",
       "      <td>0</td>\n",
       "      <td>tcp</td>\n",
       "      <td>http_443</td>\n",
       "      <td>S0</td>\n",
       "      <td>0</td>\n",
       "      <td>0</td>\n",
       "      <td>0</td>\n",
       "      <td>0</td>\n",
       "      <td>0</td>\n",
       "      <td>0</td>\n",
       "      <td>...</td>\n",
       "      <td>0.07</td>\n",
       "      <td>0.07</td>\n",
       "      <td>0.0</td>\n",
       "      <td>0.0</td>\n",
       "      <td>1.0</td>\n",
       "      <td>1.0</td>\n",
       "      <td>0.0</td>\n",
       "      <td>0.0</td>\n",
       "      <td>DoS</td>\n",
       "      <td>18</td>\n",
       "    </tr>\n",
       "    <tr>\n",
       "      <th>2</th>\n",
       "      <td>0</td>\n",
       "      <td>tcp</td>\n",
       "      <td>uucp_path</td>\n",
       "      <td>S0</td>\n",
       "      <td>0</td>\n",
       "      <td>0</td>\n",
       "      <td>0</td>\n",
       "      <td>0</td>\n",
       "      <td>0</td>\n",
       "      <td>0</td>\n",
       "      <td>...</td>\n",
       "      <td>0.07</td>\n",
       "      <td>0.07</td>\n",
       "      <td>0.0</td>\n",
       "      <td>0.0</td>\n",
       "      <td>1.0</td>\n",
       "      <td>1.0</td>\n",
       "      <td>0.0</td>\n",
       "      <td>0.0</td>\n",
       "      <td>DoS</td>\n",
       "      <td>20</td>\n",
       "    </tr>\n",
       "    <tr>\n",
       "      <th>3</th>\n",
       "      <td>0</td>\n",
       "      <td>tcp</td>\n",
       "      <td>private</td>\n",
       "      <td>S0</td>\n",
       "      <td>0</td>\n",
       "      <td>0</td>\n",
       "      <td>0</td>\n",
       "      <td>0</td>\n",
       "      <td>0</td>\n",
       "      <td>0</td>\n",
       "      <td>...</td>\n",
       "      <td>0.04</td>\n",
       "      <td>0.08</td>\n",
       "      <td>0.0</td>\n",
       "      <td>0.0</td>\n",
       "      <td>1.0</td>\n",
       "      <td>1.0</td>\n",
       "      <td>0.0</td>\n",
       "      <td>0.0</td>\n",
       "      <td>DoS</td>\n",
       "      <td>21</td>\n",
       "    </tr>\n",
       "    <tr>\n",
       "      <th>4</th>\n",
       "      <td>0</td>\n",
       "      <td>tcp</td>\n",
       "      <td>private</td>\n",
       "      <td>S0</td>\n",
       "      <td>0</td>\n",
       "      <td>0</td>\n",
       "      <td>0</td>\n",
       "      <td>0</td>\n",
       "      <td>0</td>\n",
       "      <td>0</td>\n",
       "      <td>...</td>\n",
       "      <td>0.09</td>\n",
       "      <td>0.06</td>\n",
       "      <td>0.0</td>\n",
       "      <td>0.0</td>\n",
       "      <td>1.0</td>\n",
       "      <td>1.0</td>\n",
       "      <td>0.0</td>\n",
       "      <td>0.0</td>\n",
       "      <td>DoS</td>\n",
       "      <td>21</td>\n",
       "    </tr>\n",
       "  </tbody>\n",
       "</table>\n",
       "<p>5 rows × 43 columns</p>\n",
       "</div>"
      ],
      "text/plain": [
       "   duration protocol_type    service flag  src_bytes  dst_bytes  land  \\\n",
       "0         0           tcp        ftp   S0          0          0     0   \n",
       "1         0           tcp   http_443   S0          0          0     0   \n",
       "2         0           tcp  uucp_path   S0          0          0     0   \n",
       "3         0           tcp    private   S0          0          0     0   \n",
       "4         0           tcp    private   S0          0          0     0   \n",
       "\n",
       "   wrong_fragment  urgent  hot  ...  dst_host_same_srv_rate  \\\n",
       "0               0       0    0  ...                    0.07   \n",
       "1               0       0    0  ...                    0.07   \n",
       "2               0       0    0  ...                    0.07   \n",
       "3               0       0    0  ...                    0.04   \n",
       "4               0       0    0  ...                    0.09   \n",
       "\n",
       "   dst_host_diff_srv_rate  dst_host_same_src_port_rate  \\\n",
       "0                    0.06                          0.0   \n",
       "1                    0.07                          0.0   \n",
       "2                    0.07                          0.0   \n",
       "3                    0.08                          0.0   \n",
       "4                    0.06                          0.0   \n",
       "\n",
       "   dst_host_srv_diff_host_rate  dst_host_serror_rate  \\\n",
       "0                          0.0                   1.0   \n",
       "1                          0.0                   1.0   \n",
       "2                          0.0                   1.0   \n",
       "3                          0.0                   1.0   \n",
       "4                          0.0                   1.0   \n",
       "\n",
       "   dst_host_srv_serror_rate  dst_host_rerror_rate  dst_host_srv_rerror_rate  \\\n",
       "0                       1.0                   0.0                       0.0   \n",
       "1                       1.0                   0.0                       0.0   \n",
       "2                       1.0                   0.0                       0.0   \n",
       "3                       1.0                   0.0                       0.0   \n",
       "4                       1.0                   0.0                       0.0   \n",
       "\n",
       "   class_name  difficultylevel   \n",
       "0         DoS                19  \n",
       "1         DoS                18  \n",
       "2         DoS                20  \n",
       "3         DoS                21  \n",
       "4         DoS                21  \n",
       "\n",
       "[5 rows x 43 columns]"
      ]
     },
     "metadata": {},
     "output_type": "display_data"
    },
    {
     "name": "stdout",
     "output_type": "stream",
     "text": [
      "\n",
      "=== Test Dataset Info ===\n",
      "<class 'pandas.core.frame.DataFrame'>\n",
      "RangeIndex: 22544 entries, 0 to 22543\n",
      "Data columns (total 43 columns):\n",
      " #   Column                       Non-Null Count  Dtype  \n",
      "---  ------                       --------------  -----  \n",
      " 0   duration                     22544 non-null  int64  \n",
      " 1   protocol_type                22544 non-null  object \n",
      " 2   service                      22544 non-null  object \n",
      " 3   flag                         22544 non-null  object \n",
      " 4   src_bytes                    22544 non-null  int64  \n",
      " 5   dst_bytes                    22544 non-null  int64  \n",
      " 6   land                         22544 non-null  int64  \n",
      " 7   wrong_fragment               22544 non-null  int64  \n",
      " 8   urgent                       22544 non-null  int64  \n",
      " 9   hot                          22544 non-null  int64  \n",
      " 10  num_failed_logins            22544 non-null  int64  \n",
      " 11  logged_in                    22544 non-null  int64  \n",
      " 12  num_compromised              22544 non-null  int64  \n",
      " 13  root_shell                   22544 non-null  int64  \n",
      " 14  su_attempted                 22544 non-null  int64  \n",
      " 15  num_root                     22544 non-null  int64  \n",
      " 16  num_file_creations           22544 non-null  int64  \n",
      " 17  num_shells                   22544 non-null  int64  \n",
      " 18  num_access_files             22544 non-null  int64  \n",
      " 19  num_outbound_cmds            22544 non-null  int64  \n",
      " 20  is_host_login                22544 non-null  int64  \n",
      " 21  is_guest_login               22544 non-null  int64  \n",
      " 22  count                        22544 non-null  int64  \n",
      " 23  srv_count                    22544 non-null  int64  \n",
      " 24  serror_rate                  22544 non-null  float64\n",
      " 25  srv_serror_rate              22544 non-null  float64\n",
      " 26  rerror_rate                  22544 non-null  float64\n",
      " 27  srv_rerror_rate              22544 non-null  float64\n",
      " 28  same_srv_rate                22544 non-null  float64\n",
      " 29  diff_srv_rate                22544 non-null  float64\n",
      " 30  srv_diff_host_rate           22544 non-null  float64\n",
      " 31  dst_host_count               22544 non-null  int64  \n",
      " 32  dst_host_srv_count           22544 non-null  int64  \n",
      " 33  dst_host_same_srv_rate       22544 non-null  float64\n",
      " 34  dst_host_diff_srv_rate       22544 non-null  float64\n",
      " 35  dst_host_same_src_port_rate  22544 non-null  float64\n",
      " 36  dst_host_srv_diff_host_rate  22544 non-null  float64\n",
      " 37  dst_host_serror_rate         22544 non-null  float64\n",
      " 38  dst_host_srv_serror_rate     22544 non-null  float64\n",
      " 39  dst_host_rerror_rate         22544 non-null  float64\n",
      " 40  dst_host_srv_rerror_rate     22544 non-null  float64\n",
      " 41  class                        22544 non-null  object \n",
      " 42  difficultylevel              22544 non-null  int64  \n",
      "dtypes: float64(15), int64(24), object(4)\n",
      "memory usage: 7.4+ MB\n",
      "None\n",
      "\n",
      "=== Test Dataset - First 5 rows ===\n"
     ]
    },
    {
     "data": {
      "text/html": [
       "<div>\n",
       "<style scoped>\n",
       "    .dataframe tbody tr th:only-of-type {\n",
       "        vertical-align: middle;\n",
       "    }\n",
       "\n",
       "    .dataframe tbody tr th {\n",
       "        vertical-align: top;\n",
       "    }\n",
       "\n",
       "    .dataframe thead th {\n",
       "        text-align: right;\n",
       "    }\n",
       "</style>\n",
       "<table border=\"1\" class=\"dataframe\">\n",
       "  <thead>\n",
       "    <tr style=\"text-align: right;\">\n",
       "      <th></th>\n",
       "      <th>duration</th>\n",
       "      <th>protocol_type</th>\n",
       "      <th>service</th>\n",
       "      <th>flag</th>\n",
       "      <th>src_bytes</th>\n",
       "      <th>dst_bytes</th>\n",
       "      <th>land</th>\n",
       "      <th>wrong_fragment</th>\n",
       "      <th>urgent</th>\n",
       "      <th>hot</th>\n",
       "      <th>...</th>\n",
       "      <th>dst_host_same_srv_rate</th>\n",
       "      <th>dst_host_diff_srv_rate</th>\n",
       "      <th>dst_host_same_src_port_rate</th>\n",
       "      <th>dst_host_srv_diff_host_rate</th>\n",
       "      <th>dst_host_serror_rate</th>\n",
       "      <th>dst_host_srv_serror_rate</th>\n",
       "      <th>dst_host_rerror_rate</th>\n",
       "      <th>dst_host_srv_rerror_rate</th>\n",
       "      <th>class</th>\n",
       "      <th>difficultylevel</th>\n",
       "    </tr>\n",
       "  </thead>\n",
       "  <tbody>\n",
       "    <tr>\n",
       "      <th>0</th>\n",
       "      <td>0</td>\n",
       "      <td>tcp</td>\n",
       "      <td>private</td>\n",
       "      <td>REJ</td>\n",
       "      <td>0</td>\n",
       "      <td>0</td>\n",
       "      <td>0</td>\n",
       "      <td>0</td>\n",
       "      <td>0</td>\n",
       "      <td>0</td>\n",
       "      <td>...</td>\n",
       "      <td>0.04</td>\n",
       "      <td>0.06</td>\n",
       "      <td>0.00</td>\n",
       "      <td>0.00</td>\n",
       "      <td>0.0</td>\n",
       "      <td>0.0</td>\n",
       "      <td>1.00</td>\n",
       "      <td>1.00</td>\n",
       "      <td>neptune</td>\n",
       "      <td>21</td>\n",
       "    </tr>\n",
       "    <tr>\n",
       "      <th>1</th>\n",
       "      <td>0</td>\n",
       "      <td>tcp</td>\n",
       "      <td>private</td>\n",
       "      <td>REJ</td>\n",
       "      <td>0</td>\n",
       "      <td>0</td>\n",
       "      <td>0</td>\n",
       "      <td>0</td>\n",
       "      <td>0</td>\n",
       "      <td>0</td>\n",
       "      <td>...</td>\n",
       "      <td>0.00</td>\n",
       "      <td>0.06</td>\n",
       "      <td>0.00</td>\n",
       "      <td>0.00</td>\n",
       "      <td>0.0</td>\n",
       "      <td>0.0</td>\n",
       "      <td>1.00</td>\n",
       "      <td>1.00</td>\n",
       "      <td>neptune</td>\n",
       "      <td>21</td>\n",
       "    </tr>\n",
       "    <tr>\n",
       "      <th>2</th>\n",
       "      <td>2</td>\n",
       "      <td>tcp</td>\n",
       "      <td>ftp_data</td>\n",
       "      <td>SF</td>\n",
       "      <td>12983</td>\n",
       "      <td>0</td>\n",
       "      <td>0</td>\n",
       "      <td>0</td>\n",
       "      <td>0</td>\n",
       "      <td>0</td>\n",
       "      <td>...</td>\n",
       "      <td>0.61</td>\n",
       "      <td>0.04</td>\n",
       "      <td>0.61</td>\n",
       "      <td>0.02</td>\n",
       "      <td>0.0</td>\n",
       "      <td>0.0</td>\n",
       "      <td>0.00</td>\n",
       "      <td>0.00</td>\n",
       "      <td>normal</td>\n",
       "      <td>21</td>\n",
       "    </tr>\n",
       "    <tr>\n",
       "      <th>3</th>\n",
       "      <td>0</td>\n",
       "      <td>icmp</td>\n",
       "      <td>eco_i</td>\n",
       "      <td>SF</td>\n",
       "      <td>20</td>\n",
       "      <td>0</td>\n",
       "      <td>0</td>\n",
       "      <td>0</td>\n",
       "      <td>0</td>\n",
       "      <td>0</td>\n",
       "      <td>...</td>\n",
       "      <td>1.00</td>\n",
       "      <td>0.00</td>\n",
       "      <td>1.00</td>\n",
       "      <td>0.28</td>\n",
       "      <td>0.0</td>\n",
       "      <td>0.0</td>\n",
       "      <td>0.00</td>\n",
       "      <td>0.00</td>\n",
       "      <td>saint</td>\n",
       "      <td>15</td>\n",
       "    </tr>\n",
       "    <tr>\n",
       "      <th>4</th>\n",
       "      <td>1</td>\n",
       "      <td>tcp</td>\n",
       "      <td>telnet</td>\n",
       "      <td>RSTO</td>\n",
       "      <td>0</td>\n",
       "      <td>15</td>\n",
       "      <td>0</td>\n",
       "      <td>0</td>\n",
       "      <td>0</td>\n",
       "      <td>0</td>\n",
       "      <td>...</td>\n",
       "      <td>0.31</td>\n",
       "      <td>0.17</td>\n",
       "      <td>0.03</td>\n",
       "      <td>0.02</td>\n",
       "      <td>0.0</td>\n",
       "      <td>0.0</td>\n",
       "      <td>0.83</td>\n",
       "      <td>0.71</td>\n",
       "      <td>mscan</td>\n",
       "      <td>11</td>\n",
       "    </tr>\n",
       "  </tbody>\n",
       "</table>\n",
       "<p>5 rows × 43 columns</p>\n",
       "</div>"
      ],
      "text/plain": [
       "   duration protocol_type   service  flag  src_bytes  dst_bytes  land  \\\n",
       "0         0           tcp   private   REJ          0          0     0   \n",
       "1         0           tcp   private   REJ          0          0     0   \n",
       "2         2           tcp  ftp_data    SF      12983          0     0   \n",
       "3         0          icmp     eco_i    SF         20          0     0   \n",
       "4         1           tcp    telnet  RSTO          0         15     0   \n",
       "\n",
       "   wrong_fragment  urgent  hot  ...  dst_host_same_srv_rate  \\\n",
       "0               0       0    0  ...                    0.04   \n",
       "1               0       0    0  ...                    0.00   \n",
       "2               0       0    0  ...                    0.61   \n",
       "3               0       0    0  ...                    1.00   \n",
       "4               0       0    0  ...                    0.31   \n",
       "\n",
       "   dst_host_diff_srv_rate  dst_host_same_src_port_rate  \\\n",
       "0                    0.06                         0.00   \n",
       "1                    0.06                         0.00   \n",
       "2                    0.04                         0.61   \n",
       "3                    0.00                         1.00   \n",
       "4                    0.17                         0.03   \n",
       "\n",
       "   dst_host_srv_diff_host_rate  dst_host_serror_rate  \\\n",
       "0                         0.00                   0.0   \n",
       "1                         0.00                   0.0   \n",
       "2                         0.02                   0.0   \n",
       "3                         0.28                   0.0   \n",
       "4                         0.02                   0.0   \n",
       "\n",
       "   dst_host_srv_serror_rate  dst_host_rerror_rate  dst_host_srv_rerror_rate  \\\n",
       "0                       0.0                  1.00                      1.00   \n",
       "1                       0.0                  1.00                      1.00   \n",
       "2                       0.0                  0.00                      0.00   \n",
       "3                       0.0                  0.00                      0.00   \n",
       "4                       0.0                  0.83                      0.71   \n",
       "\n",
       "     class  difficultylevel   \n",
       "0  neptune                21  \n",
       "1  neptune                21  \n",
       "2   normal                21  \n",
       "3    saint                15  \n",
       "4    mscan                11  \n",
       "\n",
       "[5 rows x 43 columns]"
      ]
     },
     "metadata": {},
     "output_type": "display_data"
    }
   ],
   "source": [
    "\n",
    "print(\"=== Training Dataset Info ===\")\n",
    "print(train_dataset.info())\n",
    "print(\"\\n=== Training Dataset - First 5 rows ===\")\n",
    "display(train_dataset.head())\n",
    "\n",
    "print(\"\\n=== Test Dataset Info ===\")\n",
    "print(test_dataset.info())\n",
    "print(\"\\n=== Test Dataset - First 5 rows ===\")\n",
    "display(test_dataset.head())"
   ]
  },
  {
   "cell_type": "markdown",
   "id": "0ed59258",
   "metadata": {},
   "source": [
    "## Check for missing values and data types"
   ]
  },
  {
   "cell_type": "code",
   "execution_count": 8,
   "id": "94a06a2b",
   "metadata": {},
   "outputs": [
    {
     "name": "stdout",
     "output_type": "stream",
     "text": [
      "=== Missing Values Analysis ===\n",
      "Training dataset missing values:\n",
      "0\n",
      "\n",
      "Test dataset missing values:\n",
      "0\n",
      "\n",
      "=== Data Types ===\n",
      "Training dataset data types:\n",
      "int64      24\n",
      "float64    15\n",
      "object      4\n",
      "Name: count, dtype: int64\n"
     ]
    }
   ],
   "source": [
    "\n",
    "print(\"=== Missing Values Analysis ===\")\n",
    "print(\"Training dataset missing values:\")\n",
    "print(train_dataset.isnull().sum().sum())\n",
    "print(\"\\nTest dataset missing values:\")\n",
    "print(test_dataset.isnull().sum().sum())\n",
    "\n",
    "print(\"\\n=== Data Types ===\")\n",
    "print(\"Training dataset data types:\")\n",
    "print(train_dataset.dtypes.value_counts())"
   ]
  },
  {
   "cell_type": "markdown",
   "id": "84d7ec39",
   "metadata": {},
   "source": [
    "# 3. Data Cleaning and Preprocessing"
   ]
  },
  {
   "cell_type": "code",
   "execution_count": 9,
   "id": "d022a87e",
   "metadata": {},
   "outputs": [
    {
     "name": "stdout",
     "output_type": "stream",
     "text": [
      "=== Data Cleaning ===\n"
     ]
    }
   ],
   "source": [
    "\n",
    "print(\"=== Data Cleaning ===\")\n"
   ]
  },
  {
   "cell_type": "markdown",
   "id": "6c4c1205",
   "metadata": {},
   "source": [
    "## Handle infinite values and missing data"
   ]
  },
  {
   "cell_type": "code",
   "execution_count": 10,
   "id": "083dc455",
   "metadata": {},
   "outputs": [
    {
     "name": "stdout",
     "output_type": "stream",
     "text": [
      "Training set - Rows after cleaning: 4047\n",
      "Training set - Null values after cleaning: 0\n",
      "Test set - Rows after cleaning: 22544\n",
      "Test set - Null values after cleaning: 0\n"
     ]
    }
   ],
   "source": [
    "\n",
    "train_dataset = train_dataset.replace([np.inf, -np.inf], np.nan) \n",
    "train_dataset = train_dataset.dropna()\n",
    "train_dataset = train_dataset.drop_duplicates()\n",
    "print(f'Training set - Rows after cleaning: {len(train_dataset)}')\n",
    "print(f'Training set - Null values after cleaning: {train_dataset.isnull().sum().sum()}')\n",
    "\n",
    "test_dataset = test_dataset.replace([np.inf, -np.inf], np.nan) \n",
    "test_dataset = test_dataset.dropna()\n",
    "test_dataset = test_dataset.drop_duplicates()\n",
    "print(f'Test set - Rows after cleaning: {len(test_dataset)}')\n",
    "print(f'Test set - Null values after cleaning: {test_dataset.isnull().sum().sum()}')"
   ]
  },
  {
   "cell_type": "markdown",
   "id": "c8c6def3",
   "metadata": {},
   "source": [
    "# 4. Attack Category Standardization"
   ]
  },
  {
   "cell_type": "code",
   "execution_count": 11,
   "id": "d748e5a7",
   "metadata": {},
   "outputs": [
    {
     "name": "stdout",
     "output_type": "stream",
     "text": [
      "=== Standardizing Attack Categories ===\n"
     ]
    }
   ],
   "source": [
    "\n",
    "print(\"=== Standardizing Attack Categories ===\")\n",
    "\n"
   ]
  },
  {
   "cell_type": "markdown",
   "id": "2832cfb6",
   "metadata": {},
   "source": [
    "## Group similar attacks into main categories"
   ]
  },
  {
   "cell_type": "code",
   "execution_count": 12,
   "id": "76e89ca4",
   "metadata": {},
   "outputs": [
    {
     "name": "stdout",
     "output_type": "stream",
     "text": [
      "Attack categories standardized successfully!\n"
     ]
    }
   ],
   "source": [
    "DoS = ['apache2','mailbomb','neptune','teardrop','smurf','pod','back','land','processtable']\n",
    "test_dataset = test_dataset.replace(to_replace=DoS, value='DoS')\n",
    "\n",
    "U2R = ['httptunnel','ps','xterm','sqlattack','rootkit','buffer_overflow','loadmodule','perl']\n",
    "test_dataset = test_dataset.replace(to_replace=U2R, value='U2R')\n",
    "\n",
    "R2L = ['udpstorm','worm','snmpgetattack','sendmail','named','snmpguess','xsnoop','xlock',\n",
    "       'warezclient','guess_passwd','ftp_write','multihop','imap','phf','warezmaster','spy']\n",
    "test_dataset = test_dataset.replace(to_replace=R2L, value='R2L')\n",
    "\n",
    "Probe = ['mscan','saint','ipsweep','portsweep','nmap','satan']\n",
    "test_dataset = test_dataset.replace(to_replace=Probe, value='Probe')\n",
    "\n",
    "print(\"Attack categories standardized successfully!\")\n"
   ]
  },
  {
   "cell_type": "markdown",
   "id": "e2786c69",
   "metadata": {},
   "source": [
    "# 5. Target Variable Analysis"
   ]
  },
  {
   "cell_type": "markdown",
   "id": "25bde544",
   "metadata": {},
   "source": [
    "## Extract target variables (assuming they're in the second-to-last column)"
   ]
  },
  {
   "cell_type": "code",
   "execution_count": 13,
   "id": "8c3d3ee2",
   "metadata": {},
   "outputs": [
    {
     "name": "stdout",
     "output_type": "stream",
     "text": [
      "=== Class Distribution Analysis ===\n",
      "\n",
      "Training set class distribution:\n",
      "    Class  Count  Percentage\n",
      "0     DoS   1000   24.709661\n",
      "1   Probe   1000   24.709661\n",
      "2     R2L    995   24.586113\n",
      "3     U2R     52    1.284902\n",
      "4  normal   1000   24.709661\n",
      "\n",
      "Test set class distribution:\n",
      "    Class  Count  Percentage\n",
      "0     DoS   7456   33.073101\n",
      "1   Probe   2421   10.738999\n",
      "2     R2L   2756   12.224982\n",
      "3     U2R    200    0.887154\n",
      "4  normal   9711   43.075763\n"
     ]
    }
   ],
   "source": [
    "\n",
    "y_train = train_dataset.iloc[:, -2].values\n",
    "y_test = test_dataset.iloc[:, -2].values\n",
    "\n",
    "print(\"=== Class Distribution Analysis ===\")\n",
    "print(\"\\nTraining set class distribution:\")\n",
    "unique_train, counts_train = np.unique(y_train, return_counts=True)\n",
    "train_dist = pd.DataFrame({'Class': unique_train, 'Count': counts_train, \n",
    "                          'Percentage': counts_train/len(y_train)*100})\n",
    "print(train_dist)\n",
    "\n",
    "print(\"\\nTest set class distribution:\")\n",
    "unique_test, counts_test = np.unique(y_test, return_counts=True)\n",
    "test_dist = pd.DataFrame({'Class': unique_test, 'Count': counts_test, \n",
    "                         'Percentage': counts_test/len(y_test)*100})\n",
    "print(test_dist)\n"
   ]
  },
  {
   "cell_type": "markdown",
   "id": "6405c9e2",
   "metadata": {},
   "source": [
    "## Visualize class distribution"
   ]
  },
  {
   "cell_type": "code",
   "execution_count": 14,
   "id": "ac842db4",
   "metadata": {},
   "outputs": [
    {
     "data": {
      "image/png": "[encoded data removed]",
      "text/plain": [
       "<Figure size 1500x600 with 2 Axes>"
      ]
     },
     "metadata": {},
     "output_type": "display_data"
    }
   ],
   "source": [
    "fig, (ax1, ax2) = plt.subplots(1, 2, figsize=(15, 6))"
   ]
  },
  {
   "cell_type": "markdown",
   "id": "b9b41f21",
   "metadata": {},
   "source": [
    "## Training set distribution"
   ]
  },
  {
   "cell_type": "code",
   "execution_count": 15,
   "id": "030ce620",
   "metadata": {},
   "outputs": [
    {
     "data": {
      "text/plain": [
       "Text(0.5, 1.0, 'Training Set - Class Distribution')"
      ]
     },
     "execution_count": 15,
     "metadata": {},
     "output_type": "execute_result"
    }
   ],
   "source": [
    "ax1.pie(counts_train, labels=unique_train, autopct='%1.1f%%', startangle=90)\n",
    "ax1.set_title('Training Set - Class Distribution')"
   ]
  },
  {
   "cell_type": "markdown",
   "id": "7e1cb5c2",
   "metadata": {},
   "source": [
    "## Test set distribution"
   ]
  },
  {
   "cell_type": "code",
   "execution_count": 16,
   "id": "3003626e",
   "metadata": {},
   "outputs": [
    {
     "data": {
      "text/plain": [
       "<Figure size 640x480 with 0 Axes>"
      ]
     },
     "metadata": {},
     "output_type": "display_data"
    }
   ],
   "source": [
    "\n",
    "ax2.pie(counts_test, labels=unique_test, autopct='%1.1f%%', startangle=90)\n",
    "ax2.set_title('Test Set - Class Distribution')\n",
    "\n",
    "plt.tight_layout()\n",
    "plt.show()\n"
   ]
  },
  {
   "cell_type": "markdown",
   "id": "8f70c9e9",
   "metadata": {},
   "source": [
    "# 6. Feature Engineering - One-Hot Encoding"
   ]
  },
  {
   "cell_type": "code",
   "execution_count": 17,
   "id": "ec3430be",
   "metadata": {},
   "outputs": [
    {
     "name": "stdout",
     "output_type": "stream",
     "text": [
      "=== One-Hot Encoding ===\n"
     ]
    }
   ],
   "source": [
    "\n",
    "print(\"=== One-Hot Encoding ===\")\n"
   ]
  },
  {
   "cell_type": "markdown",
   "id": "2c046926",
   "metadata": {},
   "source": [
    "## Remove target columns before encoding"
   ]
  },
  {
   "cell_type": "code",
   "execution_count": 18,
   "id": "12ab92d5",
   "metadata": {},
   "outputs": [],
   "source": [
    "train_features = train_dataset.drop(train_dataset.columns[[-1, -2]], axis=1)\n",
    "test_features = test_dataset.drop(test_dataset.columns[[-1, -2]], axis=1)\n"
   ]
  },
  {
   "cell_type": "markdown",
   "id": "44d2f223",
   "metadata": {},
   "source": [
    "## Apply one-hot encoding"
   ]
  },
  {
   "cell_type": "code",
   "execution_count": 19,
   "id": "dc2d7bf3",
   "metadata": {},
   "outputs": [],
   "source": [
    "\n",
    "train_encoded = pd.get_dummies(train_features)\n",
    "test_encoded = pd.get_dummies(test_features)"
   ]
  },
  {
   "cell_type": "markdown",
   "id": "6d9462ad",
   "metadata": {},
   "source": [
    "## Apply one-hot encoding"
   ]
  },
  {
   "cell_type": "code",
   "execution_count": 20,
   "id": "f64bea55",
   "metadata": {},
   "outputs": [
    {
     "name": "stdout",
     "output_type": "stream",
     "text": [
      "Features before encoding: 41\n",
      "Features after encoding - Training: 109\n",
      "Features after encoding - Test: 116\n"
     ]
    }
   ],
   "source": [
    "train_encoded = pd.get_dummies(train_features)\n",
    "test_encoded = pd.get_dummies(test_features)\n",
    "print(f\"Features before encoding: {train_features.shape[1]}\")\n",
    "print(f\"Features after encoding - Training: {train_encoded.shape[1]}\")\n",
    "print(f\"Features after encoding - Test: {test_encoded.shape[1]}\")"
   ]
  },
  {
   "cell_type": "markdown",
   "id": "cc47a893",
   "metadata": {},
   "source": [
    "## Ensure both datasets have the same features"
   ]
  },
  {
   "cell_type": "code",
   "execution_count": 21,
   "id": "9271576a",
   "metadata": {},
   "outputs": [
    {
     "name": "stdout",
     "output_type": "stream",
     "text": [
      "=== Feature Alignment ===\n"
     ]
    }
   ],
   "source": [
    "\n",
    "print(\"=== Feature Alignment ===\")"
   ]
  },
  {
   "cell_type": "code",
   "execution_count": 22,
   "id": "c74f6190",
   "metadata": {},
   "outputs": [],
   "source": [
    "train_cols = set(train_encoded.columns)\n",
    "test_cols = set(test_encoded.columns)"
   ]
  },
  {
   "cell_type": "markdown",
   "id": "2f83beb3",
   "metadata": {},
   "source": [
    "## Add missing columns"
   ]
  },
  {
   "cell_type": "code",
   "execution_count": 23,
   "id": "e47e0e80",
   "metadata": {},
   "outputs": [
    {
     "name": "stdout",
     "output_type": "stream",
     "text": [
      "Features missing in training set: 7\n",
      "Features missing in test set: 0\n"
     ]
    }
   ],
   "source": [
    "\n",
    "missing_in_train = test_cols - train_cols\n",
    "missing_in_test = train_cols - test_cols\n",
    "print(f\"Features missing in training set: {len(missing_in_train)}\")\n",
    "print(f\"Features missing in test set: {len(missing_in_test)}\")\n"
   ]
  },
  {
   "cell_type": "markdown",
   "id": "41f84269",
   "metadata": {},
   "source": [
    "## Add missing columns with zeros\n"
   ]
  },
  {
   "cell_type": "code",
   "execution_count": 24,
   "id": "98adc103",
   "metadata": {},
   "outputs": [],
   "source": [
    "\n",
    "for col in missing_in_train:\n",
    "    train_encoded[col] = 0\n",
    "\n",
    "for col in missing_in_test:\n",
    "    test_encoded[col] = 0\n"
   ]
  },
  {
   "cell_type": "markdown",
   "id": "6a108330",
   "metadata": {},
   "source": [
    "## Ensure same column order"
   ]
  },
  {
   "cell_type": "code",
   "execution_count": 25,
   "id": "dc42f80c",
   "metadata": {},
   "outputs": [
    {
     "name": "stdout",
     "output_type": "stream",
     "text": [
      "Final feature count - Training: 116\n",
      "Final feature count - Test: 116\n"
     ]
    }
   ],
   "source": [
    "train_encoded = train_encoded.reindex(sorted(train_encoded.columns), axis=1)\n",
    "test_encoded = test_encoded.reindex(sorted(test_encoded.columns), axis=1)\n",
    "\n",
    "print(f\"Final feature count - Training: {train_encoded.shape[1]}\")\n",
    "print(f\"Final feature count - Test: {test_encoded.shape[1]}\")\n"
   ]
  },
  {
   "cell_type": "markdown",
   "id": "0cedbb2e",
   "metadata": {},
   "source": [
    "## Create feature matrices"
   ]
  },
  {
   "cell_type": "code",
   "execution_count": 26,
   "id": "93e0a619",
   "metadata": {},
   "outputs": [],
   "source": [
    "X_train = train_encoded.values\n",
    "X_test = test_encoded.values\n"
   ]
  },
  {
   "cell_type": "markdown",
   "id": "60ee99b7",
   "metadata": {},
   "source": [
    "# 7. Label Encoding for Target Variables\n"
   ]
  },
  {
   "cell_type": "code",
   "execution_count": 27,
   "id": "867bf495",
   "metadata": {},
   "outputs": [
    {
     "name": "stdout",
     "output_type": "stream",
     "text": [
      "=== Label Encoding ===\n"
     ]
    }
   ],
   "source": [
    "\n",
    "print(\"=== Label Encoding ===\")"
   ]
  },
  {
   "cell_type": "markdown",
   "id": "cdea6249",
   "metadata": {},
   "source": [
    "## Encode target variables"
   ]
  },
  {
   "cell_type": "code",
   "execution_count": 28,
   "id": "3367abd0",
   "metadata": {},
   "outputs": [],
   "source": [
    "\n",
    "le = LabelEncoder()\n",
    "y_train_encoded = le.fit_transform(y_train)\n",
    "y_test_encoded = le.transform(y_test)\n"
   ]
  },
  {
   "cell_type": "markdown",
   "id": "6f409c26",
   "metadata": {},
   "source": [
    "## Store class names for reference"
   ]
  },
  {
   "cell_type": "code",
   "execution_count": 29,
   "id": "fbe2e429",
   "metadata": {},
   "outputs": [
    {
     "name": "stdout",
     "output_type": "stream",
     "text": [
      "Class mapping:\n",
      "  0: DoS\n",
      "  1: Probe\n",
      "  2: R2L\n",
      "  3: U2R\n",
      "  4: normal\n",
      "\n",
      "Training set encoded shape: (4047,)\n",
      "Test set encoded shape: (22544,)\n"
     ]
    }
   ],
   "source": [
    "\n",
    "class_names = le.classes_\n",
    "class_mapping = {i: name for i, name in enumerate(class_names)}\n",
    "\n",
    "print(\"Class mapping:\")\n",
    "for i, name in class_mapping.items():\n",
    "    print(f\"  {i}: {name}\")\n",
    "\n",
    "print(f\"\\nTraining set encoded shape: {y_train_encoded.shape}\")\n",
    "print(f\"Test set encoded shape: {y_test_encoded.shape}\")\n"
   ]
  },
  {
   "cell_type": "markdown",
   "id": "fa52ff44",
   "metadata": {},
   "source": [
    "# 8. Feature Scaling"
   ]
  },
  {
   "cell_type": "code",
   "execution_count": 30,
   "id": "d823fffa",
   "metadata": {},
   "outputs": [
    {
     "name": "stdout",
     "output_type": "stream",
     "text": [
      "=== Feature Scaling ===\n",
      "Feature scaling completed!\n",
      "Scaled feature range: [0.000, 1.000]\n"
     ]
    }
   ],
   "source": [
    "print(\"=== Feature Scaling ===\")\n",
    "\n",
    "# Apply MinMax scaling\n",
    "scaler = MinMaxScaler()\n",
    "X_train_scaled = scaler.fit_transform(X_train)\n",
    "X_test_scaled = scaler.transform(X_test)\n",
    "\n",
    "print(\"Feature scaling completed!\")\n",
    "print(f\"Scaled feature range: [{X_train_scaled.min():.3f}, {X_train_scaled.max():.3f}]\")"
   ]
  },
  {
   "cell_type": "markdown",
   "id": "2690b191",
   "metadata": {},
   "source": [
    "# 9. Model Selection and Training"
   ]
  },
  {
   "cell_type": "code",
   "execution_count": 31,
   "id": "77adddd7",
   "metadata": {},
   "outputs": [
    {
     "name": "stdout",
     "output_type": "stream",
     "text": [
      "=== Model Configuration ===\n"
     ]
    }
   ],
   "source": [
    "\n",
    "print(\"=== Model Configuration ===\")\n"
   ]
  },
  {
   "cell_type": "markdown",
   "id": "9540b526",
   "metadata": {},
   "source": [
    "## Choose your classifier (uncomment one)"
   ]
  },
  {
   "cell_type": "code",
   "execution_count": 32,
   "id": "cdab5fa2",
   "metadata": {},
   "outputs": [
    {
     "name": "stdout",
     "output_type": "stream",
     "text": [
      "Selected classifier: RandomForestClassifier\n",
      "Classifier parameters: {'bootstrap': True, 'ccp_alpha': 0.0, 'class_weight': None, 'criterion': 'gini', 'max_depth': None, 'max_features': 'sqrt', 'max_leaf_nodes': None, 'max_samples': None, 'min_impurity_decrease': 0.0, 'min_samples_leaf': 1, 'min_samples_split': 2, 'min_weight_fraction_leaf': 0.0, 'monotonic_cst': None, 'n_estimators': 100, 'n_jobs': -1, 'oob_score': False, 'random_state': 42, 'verbose': 0, 'warm_start': False}\n"
     ]
    }
   ],
   "source": [
    "classifier = RandomForestClassifier(n_estimators=100, random_state=42, n_jobs=-1)\n",
    "print(f\"Selected classifier: {type(classifier).__name__}\")\n",
    "print(f\"Classifier parameters: {classifier.get_params()}\")"
   ]
  },
  {
   "cell_type": "markdown",
   "id": "53fdcaaa",
   "metadata": {},
   "source": [
    "# 10. Cross-Validation Evaluation\n"
   ]
  },
  {
   "cell_type": "code",
   "execution_count": 33,
   "id": "7467bb4c",
   "metadata": {},
   "outputs": [
    {
     "name": "stdout",
     "output_type": "stream",
     "text": [
      "=== Cross Validation Setup ===\n"
     ]
    }
   ],
   "source": [
    "print(\"=== Cross Validation Setup ===\")"
   ]
  },
  {
   "cell_type": "markdown",
   "id": "23aa0e56",
   "metadata": {},
   "source": [
    "## Setup stratified k-fold cross validation\n"
   ]
  },
  {
   "cell_type": "code",
   "execution_count": 34,
   "id": "99fa3d2b",
   "metadata": {},
   "outputs": [],
   "source": [
    "\n",
    "cv = StratifiedKFold(n_splits=5, shuffle=True, random_state=42)\n"
   ]
  },
  {
   "cell_type": "markdown",
   "id": "0950aec2",
   "metadata": {},
   "source": [
    "## Initialize metrics storage"
   ]
  },
  {
   "cell_type": "code",
   "execution_count": 35,
   "id": "d67c2448",
   "metadata": {},
   "outputs": [
    {
     "name": "stdout",
     "output_type": "stream",
     "text": [
      "Starting cross-validation...\n"
     ]
    }
   ],
   "source": [
    "\n",
    "cv_metrics = {\n",
    "    'accuracy': [],\n",
    "    'precision': [],\n",
    "    'recall': [],\n",
    "    'f1': [],\n",
    "    'tnr': [],  # True Negative Rate (Specificity)\n",
    "    'fpr': [],  # False Positive Rate\n",
    "    'fnr': [],  # False Negative Rate\n",
    "    'far': []   # False Alarm Rate\n",
    "}\n",
    "\n",
    "print(\"Starting cross-validation...\")"
   ]
  },
  {
   "cell_type": "markdown",
   "id": "9f64d8e8",
   "metadata": {},
   "source": [
    "## Perform cross-validation"
   ]
  },
  {
   "cell_type": "code",
   "execution_count": 36,
   "id": "1744655c",
   "metadata": {},
   "outputs": [
    {
     "name": "stdout",
     "output_type": "stream",
     "text": [
      "Processing fold 1/5...\n",
      "Processing fold 2/5...\n",
      "Processing fold 3/5...\n",
      "Processing fold 4/5...\n",
      "Processing fold 5/5...\n",
      "Cross-validation completed!\n"
     ]
    }
   ],
   "source": [
    "\n",
    "fold = 1\n",
    "for train_idx, val_idx in cv.split(X_train_scaled, y_train_encoded):\n",
    "    print(f\"Processing fold {fold}/5...\")\n",
    "    \n",
    "    # Split data for this fold\n",
    "    X_train_fold, X_val_fold = X_train_scaled[train_idx], X_train_scaled[val_idx]\n",
    "    y_train_fold, y_val_fold = y_train_encoded[train_idx], y_train_encoded[val_idx]\n",
    "    \n",
    "    # Train classifier\n",
    "    classifier.fit(X_train_fold, y_train_fold)\n",
    "    \n",
    "    # Make predictions\n",
    "    y_pred_fold = classifier.predict(X_val_fold)\n",
    "    \n",
    "    # Calculate basic metrics\n",
    "    cv_metrics['accuracy'].append(accuracy_score(y_val_fold, y_pred_fold))\n",
    "    cv_metrics['precision'].append(np.mean(precision_score(y_val_fold, y_pred_fold, \n",
    "                                                          average=None, zero_division=0)))\n",
    "    cv_metrics['recall'].append(np.mean(recall_score(y_val_fold, y_pred_fold, \n",
    "                                                    average=None, zero_division=0)))\n",
    "    cv_metrics['f1'].append(np.mean(f1_score(y_val_fold, y_pred_fold, \n",
    "                                            average=None, zero_division=0)))\n",
    "    \n",
    "    # Calculate confusion matrix-based metrics\n",
    "    cm = multilabel_confusion_matrix(y_val_fold, y_pred_fold)\n",
    "    \n",
    "    TNR, FPR, FNR, FAR = [], [], [], []\n",
    "    \n",
    "    for i in range(len(class_names)):\n",
    "        if i < len(cm):\n",
    "            tn, fn, tp, fp = cm[i][0][0], cm[i][1][0], cm[i][1][1], cm[i][0][1]\n",
    "            \n",
    "            # Calculate rates with zero-division protection\n",
    "            TNR.append(tn / (fp + tn) if (fp + tn) > 0 else 0)\n",
    "            FPR.append(fp / (fp + tn) if (fp + tn) > 0 else 0)\n",
    "            FNR.append(fn / (fn + tp) if (fn + tp) > 0 else 0)\n",
    "            FAR.append((fp + fn) / (fp + fn + tp + tn) if (fp + fn + tp + tn) > 0 else 0)\n",
    "    \n",
    "    cv_metrics['tnr'].append(np.mean(TNR))\n",
    "    cv_metrics['fpr'].append(np.mean(FPR))\n",
    "    cv_metrics['fnr'].append(np.mean(FNR))\n",
    "    cv_metrics['far'].append(np.mean(FAR))\n",
    "    \n",
    "    fold += 1\n",
    "print(\"Cross-validation completed!\")\n",
    "    \n"
   ]
  },
  {
   "cell_type": "markdown",
   "id": "d76b86db",
   "metadata": {},
   "source": [
    "# 11. Cross-Validation Results\n"
   ]
  },
  {
   "cell_type": "code",
   "execution_count": 37,
   "id": "4c1f7461",
   "metadata": {},
   "outputs": [
    {
     "name": "stdout",
     "output_type": "stream",
     "text": [
      "============================================================\n",
      "         CROSS-VALIDATION RESULTS\n",
      "============================================================\n",
      "ACCURACY            : 0.9889 ± 0.0035\n",
      "PRECISION           : 0.9738 ± 0.0201\n",
      "RECALL              : 0.9658 ± 0.0271\n",
      "F1                  : 0.9687 ± 0.0207\n",
      "TNR                 : 0.9971 ± 0.0009\n",
      "FPR                 : 0.0029 ± 0.0009\n",
      "FNR                 : 0.0342 ± 0.0271\n",
      "FAR                 : 0.0044 ± 0.0014\n"
     ]
    }
   ],
   "source": [
    "print(\"=\" * 60)\n",
    "print(\"         CROSS-VALIDATION RESULTS\")\n",
    "print(\"=\" * 60)\n",
    "for metric_name, values in cv_metrics.items():\n",
    "    mean_val = np.mean(values)\n",
    "    std_val = np.std(values)\n",
    "    print(f\"{metric_name.upper():20}: {mean_val:.4f} ± {std_val:.4f}\")"
   ]
  },
  {
   "cell_type": "markdown",
   "id": "958aa321",
   "metadata": {},
   "source": [
    "## Create a summary DataFrame"
   ]
  },
  {
   "cell_type": "code",
   "execution_count": 38,
   "id": "c8bf90bd",
   "metadata": {},
   "outputs": [
    {
     "data": {
      "text/html": [
       "<div>\n",
       "<style scoped>\n",
       "    .dataframe tbody tr th:only-of-type {\n",
       "        vertical-align: middle;\n",
       "    }\n",
       "\n",
       "    .dataframe tbody tr th {\n",
       "        vertical-align: top;\n",
       "    }\n",
       "\n",
       "    .dataframe thead th {\n",
       "        text-align: right;\n",
       "    }\n",
       "</style>\n",
       "<table border=\"1\" class=\"dataframe\">\n",
       "  <thead>\n",
       "    <tr style=\"text-align: right;\">\n",
       "      <th></th>\n",
       "      <th>Metric</th>\n",
       "      <th>Mean</th>\n",
       "      <th>Std</th>\n",
       "    </tr>\n",
       "  </thead>\n",
       "  <tbody>\n",
       "    <tr>\n",
       "      <th>0</th>\n",
       "      <td>ACCURACY</td>\n",
       "      <td>0.988882</td>\n",
       "      <td>0.003493</td>\n",
       "    </tr>\n",
       "    <tr>\n",
       "      <th>1</th>\n",
       "      <td>PRECISION</td>\n",
       "      <td>0.973847</td>\n",
       "      <td>0.020103</td>\n",
       "    </tr>\n",
       "    <tr>\n",
       "      <th>2</th>\n",
       "      <td>RECALL</td>\n",
       "      <td>0.965842</td>\n",
       "      <td>0.027073</td>\n",
       "    </tr>\n",
       "    <tr>\n",
       "      <th>3</th>\n",
       "      <td>F1</td>\n",
       "      <td>0.968682</td>\n",
       "      <td>0.020743</td>\n",
       "    </tr>\n",
       "    <tr>\n",
       "      <th>4</th>\n",
       "      <td>TNR</td>\n",
       "      <td>0.997126</td>\n",
       "      <td>0.000898</td>\n",
       "    </tr>\n",
       "    <tr>\n",
       "      <th>5</th>\n",
       "      <td>FPR</td>\n",
       "      <td>0.002874</td>\n",
       "      <td>0.000898</td>\n",
       "    </tr>\n",
       "    <tr>\n",
       "      <th>6</th>\n",
       "      <td>FNR</td>\n",
       "      <td>0.034158</td>\n",
       "      <td>0.027073</td>\n",
       "    </tr>\n",
       "    <tr>\n",
       "      <th>7</th>\n",
       "      <td>FAR</td>\n",
       "      <td>0.004447</td>\n",
       "      <td>0.001397</td>\n",
       "    </tr>\n",
       "  </tbody>\n",
       "</table>\n",
       "</div>"
      ],
      "text/plain": [
       "      Metric      Mean       Std\n",
       "0   ACCURACY  0.988882  0.003493\n",
       "1  PRECISION  0.973847  0.020103\n",
       "2     RECALL  0.965842  0.027073\n",
       "3         F1  0.968682  0.020743\n",
       "4        TNR  0.997126  0.000898\n",
       "5        FPR  0.002874  0.000898\n",
       "6        FNR  0.034158  0.027073\n",
       "7        FAR  0.004447  0.001397"
      ]
     },
     "metadata": {},
     "output_type": "display_data"
    }
   ],
   "source": [
    "\n",
    "cv_results_df = pd.DataFrame({\n",
    "    'Metric': [k.upper() for k in cv_metrics.keys()],\n",
    "    'Mean': [np.mean(v) for v in cv_metrics.values()],\n",
    "    'Std': [np.std(v) for v in cv_metrics.values()]\n",
    "})\n",
    "\n",
    "display(cv_results_df)\n"
   ]
  },
  {
   "cell_type": "markdown",
   "id": "efaee425",
   "metadata": {},
   "source": [
    "## Visualize cross-validation results\n"
   ]
  },
  {
   "cell_type": "code",
   "execution_count": 39,
   "id": "30eaa4ae",
   "metadata": {},
   "outputs": [
    {
     "data": {
      "image/png": "[encoded data removed]",
      "text/plain": [
       "<Figure size 1500x1000 with 4 Axes>"
      ]
     },
     "metadata": {},
     "output_type": "display_data"
    }
   ],
   "source": [
    "\n",
    "fig, axes = plt.subplots(2, 2, figsize=(15, 10))\n",
    "fig.suptitle('Cross-Validation Results', fontsize=16)\n",
    "\n",
    "metrics_to_plot = ['accuracy', 'precision', 'recall', 'f1']\n",
    "for i, metric in enumerate(metrics_to_plot):\n",
    "    ax = axes[i//2, i%2]\n",
    "    ax.boxplot(cv_metrics[metric])\n",
    "    ax.set_title(f'{metric.title()} Scores')\n",
    "    ax.set_ylabel('Score')\n",
    "    ax.grid(True, alpha=0.3)\n",
    "\n",
    "plt.tight_layout()\n",
    "plt.show()\n"
   ]
  },
  {
   "cell_type": "markdown",
   "id": "b0c3643d",
   "metadata": {},
   "source": [
    "# 12. Final Model Training and Test Set Evaluation"
   ]
  },
  {
   "cell_type": "code",
   "execution_count": 40,
   "id": "074dd794",
   "metadata": {},
   "outputs": [
    {
     "name": "stdout",
     "output_type": "stream",
     "text": [
      "=== Final Model Training ===\n"
     ]
    }
   ],
   "source": [
    "print(\"=== Final Model Training ===\")\n"
   ]
  },
  {
   "cell_type": "markdown",
   "id": "3cefe319",
   "metadata": {},
   "source": [
    "## Train on full training set\n"
   ]
  },
  {
   "cell_type": "code",
   "execution_count": 41,
   "id": "cd099ad6",
   "metadata": {},
   "outputs": [
    {
     "name": "stdout",
     "output_type": "stream",
     "text": [
      "Model trained on full training set!\n"
     ]
    }
   ],
   "source": [
    "\n",
    "classifier.fit(X_train_scaled, y_train_encoded)\n",
    "print(\"Model trained on full training set!\")\n"
   ]
  },
  {
   "cell_type": "markdown",
   "id": "e731e621",
   "metadata": {},
   "source": [
    "## Predict test set"
   ]
  },
  {
   "cell_type": "code",
   "execution_count": 42,
   "id": "11727980",
   "metadata": {},
   "outputs": [
    {
     "name": "stdout",
     "output_type": "stream",
     "text": [
      "Test set predictions completed!\n"
     ]
    }
   ],
   "source": [
    "y_test_pred = classifier.predict(X_test_scaled)\n",
    "print(\"Test set predictions completed!\")\n"
   ]
  },
  {
   "cell_type": "markdown",
   "id": "9b88a53d",
   "metadata": {},
   "source": [
    "## Calculate test set metrics\n"
   ]
  },
  {
   "cell_type": "code",
   "execution_count": 43,
   "id": "38a7128c",
   "metadata": {},
   "outputs": [
    {
     "name": "stdout",
     "output_type": "stream",
     "text": [
      "=== Test Set Performance ===\n",
      "Accuracy:  0.7917\n",
      "Precision: 0.7948\n",
      "Recall:    0.5741\n",
      "F1-Score:  0.6157\n"
     ]
    }
   ],
   "source": [
    "print(\"=== Test Set Performance ===\")\n",
    "\n",
    "test_accuracy = accuracy_score(y_test_encoded, y_test_pred)\n",
    "test_precision = np.mean(precision_score(y_test_encoded, y_test_pred, average=None, zero_division=0))\n",
    "test_recall = np.mean(recall_score(y_test_encoded, y_test_pred, average=None, zero_division=0))\n",
    "test_f1 = np.mean(f1_score(y_test_encoded, y_test_pred, average=None, zero_division=0))\n",
    "\n",
    "print(f\"Accuracy:  {test_accuracy:.4f}\")\n",
    "print(f\"Precision: {test_precision:.4f}\")\n",
    "print(f\"Recall:    {test_recall:.4f}\")\n",
    "print(f\"F1-Score:  {test_f1:.4f}\")\n"
   ]
  },
  {
   "cell_type": "markdown",
   "id": "c0862143",
   "metadata": {},
   "source": [
    "\n",
    "## Detailed confusion matrix analysis\n"
   ]
  },
  {
   "cell_type": "code",
   "execution_count": 44,
   "id": "bda76011",
   "metadata": {},
   "outputs": [
    {
     "name": "stdout",
     "output_type": "stream",
     "text": [
      "\n",
      "Specificity (TNR): 0.9302\n",
      "False Positive Rate: 0.0698\n",
      "False Negative Rate: 0.4259\n",
      "False Alarm Rate: 0.0833\n"
     ]
    }
   ],
   "source": [
    "cm_test = multilabel_confusion_matrix(y_test_encoded, y_test_pred)\n",
    "\n",
    "test_TNR, test_FPR, test_FNR, test_FAR = [], [], [], []\n",
    "\n",
    "for i in range(len(class_names)):\n",
    "    if i < len(cm_test):\n",
    "        tn, fn, tp, fp = cm_test[i][0][0], cm_test[i][1][0], cm_test[i][1][1], cm_test[i][0][1]\n",
    "        \n",
    "        test_TNR.append(tn / (fp + tn) if (fp + tn) > 0 else 0)\n",
    "        test_FPR.append(fp / (fp + tn) if (fp + tn) > 0 else 0)\n",
    "        test_FNR.append(fn / (fn + tp) if (fn + tp) > 0 else 0)\n",
    "        test_FAR.append((fp + fn) / (fp + fn + tp + tn) if (fp + fn + tp + tn) > 0 else 0)\n",
    "\n",
    "print(f\"\\nSpecificity (TNR): {np.mean(test_TNR):.4f}\")\n",
    "print(f\"False Positive Rate: {np.mean(test_FPR):.4f}\")\n",
    "print(f\"False Negative Rate: {np.mean(test_FNR):.4f}\")\n",
    "print(f\"False Alarm Rate: {np.mean(test_FAR):.4f}\")\n"
   ]
  },
  {
   "cell_type": "markdown",
   "id": "1f128af9",
   "metadata": {},
   "source": [
    "# 13. Detailed Classification Report\n"
   ]
  },
  {
   "cell_type": "code",
   "execution_count": 45,
   "id": "1b7001f9",
   "metadata": {},
   "outputs": [
    {
     "name": "stdout",
     "output_type": "stream",
     "text": [
      "============================================================\n",
      "         DETAILED CLASSIFICATION REPORT\n",
      "============================================================\n"
     ]
    }
   ],
   "source": [
    "print(\"=\" * 60)\n",
    "print(\"         DETAILED CLASSIFICATION REPORT\")\n",
    "print(\"=\" * 60)\n"
   ]
  },
  {
   "cell_type": "markdown",
   "id": "0683a3eb",
   "metadata": {},
   "source": [
    "##"
   ]
  },
  {
   "cell_type": "code",
   "execution_count": 46,
   "id": "957a16de",
   "metadata": {},
   "outputs": [
    {
     "name": "stdout",
     "output_type": "stream",
     "text": [
      "              precision    recall  f1-score   support\n",
      "\n",
      "         DoS       0.95      0.81      0.87      7456\n",
      "       Probe       0.81      0.68      0.73      2421\n",
      "         R2L       0.96      0.27      0.42      2756\n",
      "         U2R       0.56      0.15      0.24       200\n",
      "      normal       0.71      0.97      0.82      9711\n",
      "\n",
      "    accuracy                           0.79     22544\n",
      "   macro avg       0.79      0.57      0.62     22544\n",
      "weighted avg       0.83      0.79      0.77     22544\n",
      "\n"
     ]
    }
   ],
   "source": [
    "report = classification_report(y_test_encoded, y_test_pred, target_names=class_names)\n",
    "print(report)"
   ]
  },
  {
   "cell_type": "markdown",
   "id": "ed7bf286",
   "metadata": {},
   "source": [
    "# 14. Per-Class Performance Analysis\n"
   ]
  },
  {
   "cell_type": "code",
   "execution_count": 47,
   "id": "57a9a4da",
   "metadata": {},
   "outputs": [
    {
     "name": "stdout",
     "output_type": "stream",
     "text": [
      "=== Per-Class Performance Metrics ===\n"
     ]
    }
   ],
   "source": [
    "print(\"=== Per-Class Performance Metrics ===\")"
   ]
  },
  {
   "cell_type": "markdown",
   "id": "663cbdd1",
   "metadata": {},
   "source": [
    "## Calculate per-class metrics\n"
   ]
  },
  {
   "cell_type": "code",
   "execution_count": 48,
   "id": "1311eafc",
   "metadata": {},
   "outputs": [],
   "source": [
    "\n",
    "precision_per_class = precision_score(y_test_encoded, y_test_pred, average=None, zero_division=0)\n",
    "recall_per_class = recall_score(y_test_encoded, y_test_pred, average=None, zero_division=0)\n",
    "f1_per_class = f1_score(y_test_encoded, y_test_pred, average=None, zero_division=0)\n"
   ]
  },
  {
   "cell_type": "markdown",
   "id": "dd2dcd4d",
   "metadata": {},
   "source": [
    "## Create comprehensive per-class DataFrame\n"
   ]
  },
  {
   "cell_type": "code",
   "execution_count": 49,
   "id": "b8eaa062",
   "metadata": {},
   "outputs": [
    {
     "data": {
      "text/html": [
       "<div>\n",
       "<style scoped>\n",
       "    .dataframe tbody tr th:only-of-type {\n",
       "        vertical-align: middle;\n",
       "    }\n",
       "\n",
       "    .dataframe tbody tr th {\n",
       "        vertical-align: top;\n",
       "    }\n",
       "\n",
       "    .dataframe thead th {\n",
       "        text-align: right;\n",
       "    }\n",
       "</style>\n",
       "<table border=\"1\" class=\"dataframe\">\n",
       "  <thead>\n",
       "    <tr style=\"text-align: right;\">\n",
       "      <th></th>\n",
       "      <th>Class</th>\n",
       "      <th>Precision</th>\n",
       "      <th>Recall</th>\n",
       "      <th>F1-Score</th>\n",
       "      <th>Specificity</th>\n",
       "    </tr>\n",
       "  </thead>\n",
       "  <tbody>\n",
       "    <tr>\n",
       "      <th>0</th>\n",
       "      <td>DoS</td>\n",
       "      <td>0.945827</td>\n",
       "      <td>0.810220</td>\n",
       "      <td>0.872788</td>\n",
       "      <td>0.977068</td>\n",
       "    </tr>\n",
       "    <tr>\n",
       "      <th>1</th>\n",
       "      <td>Probe</td>\n",
       "      <td>0.806213</td>\n",
       "      <td>0.675341</td>\n",
       "      <td>0.734997</td>\n",
       "      <td>0.980470</td>\n",
       "    </tr>\n",
       "    <tr>\n",
       "      <th>2</th>\n",
       "      <td>R2L</td>\n",
       "      <td>0.959477</td>\n",
       "      <td>0.266328</td>\n",
       "      <td>0.416927</td>\n",
       "      <td>0.998433</td>\n",
       "    </tr>\n",
       "    <tr>\n",
       "      <th>3</th>\n",
       "      <td>U2R</td>\n",
       "      <td>0.555556</td>\n",
       "      <td>0.150000</td>\n",
       "      <td>0.236220</td>\n",
       "      <td>0.998926</td>\n",
       "    </tr>\n",
       "    <tr>\n",
       "      <th>4</th>\n",
       "      <td>normal</td>\n",
       "      <td>0.706837</td>\n",
       "      <td>0.968798</td>\n",
       "      <td>0.817341</td>\n",
       "      <td>0.695940</td>\n",
       "    </tr>\n",
       "  </tbody>\n",
       "</table>\n",
       "</div>"
      ],
      "text/plain": [
       "    Class  Precision    Recall  F1-Score  Specificity\n",
       "0     DoS   0.945827  0.810220  0.872788     0.977068\n",
       "1   Probe   0.806213  0.675341  0.734997     0.980470\n",
       "2     R2L   0.959477  0.266328  0.416927     0.998433\n",
       "3     U2R   0.555556  0.150000  0.236220     0.998926\n",
       "4  normal   0.706837  0.968798  0.817341     0.695940"
      ]
     },
     "metadata": {},
     "output_type": "display_data"
    }
   ],
   "source": [
    "\n",
    "per_class_results = []\n",
    "for i, class_name in enumerate(class_names):\n",
    "    if i < len(precision_per_class):\n",
    "        per_class_results.append({\n",
    "            'Class': class_name,\n",
    "            'Precision': precision_per_class[i],\n",
    "            'Recall': recall_per_class[i],\n",
    "            'F1-Score': f1_per_class[i],\n",
    "            'Specificity': test_TNR[i] if i < len(test_TNR) else 0\n",
    "        })\n",
    "\n",
    "per_class_df = pd.DataFrame(per_class_results)\n",
    "display(per_class_df)\n"
   ]
  },
  {
   "cell_type": "markdown",
   "id": "054c6f3c",
   "metadata": {},
   "source": [
    "\n",
    "## Visualize per-class performance\n"
   ]
  },
  {
   "cell_type": "code",
   "execution_count": 50,
   "id": "a40e180d",
   "metadata": {},
   "outputs": [
    {
     "data": {
      "image/png": "[encoded data removed]",
      "text/plain": [
       "<Figure size 1500x1000 with 4 Axes>"
      ]
     },
     "metadata": {},
     "output_type": "display_data"
    }
   ],
   "source": [
    "fig, axes = plt.subplots(2, 2, figsize=(15, 10))\n",
    "fig.suptitle('Per-Class Performance Metrics', fontsize=16)\n",
    "\n",
    "metrics = ['Precision', 'Recall', 'F1-Score', 'Specificity']\n",
    "for i, metric in enumerate(metrics):\n",
    "    ax = axes[i//2, i%2]\n",
    "    bars = ax.bar(per_class_df['Class'], per_class_df[metric])\n",
    "    ax.set_title(f'{metric} by Class')\n",
    "    ax.set_ylabel(metric)\n",
    "    ax.tick_params(axis='x', rotation=45)\n",
    "    \n",
    "    # Add value labels on bars\n",
    "    for bar in bars:\n",
    "        height = bar.get_height()\n",
    "        ax.text(bar.get_x() + bar.get_width()/2., height,\n",
    "                f'{height:.3f}', ha='center', va='bottom')\n",
    "\n",
    "plt.tight_layout()\n",
    "plt.show()\n"
   ]
  },
  {
   "cell_type": "markdown",
   "id": "a11b1644",
   "metadata": {},
   "source": [
    "# 15. Confusion Matrix Visualization"
   ]
  },
  {
   "cell_type": "markdown",
   "id": "c5228222",
   "metadata": {},
   "source": [
    "## Generate and visualize confusion matrix\n"
   ]
  },
  {
   "cell_type": "code",
   "execution_count": 51,
   "id": "91279a30",
   "metadata": {},
   "outputs": [
    {
     "data": {
      "image/png": "[encoded data removed]",
      "text/plain": [
       "<Figure size 1000x800 with 2 Axes>"
      ]
     },
     "metadata": {},
     "output_type": "display_data"
    }
   ],
   "source": [
    "\n",
    "cm_overall = confusion_matrix(y_test_encoded, y_test_pred)\n",
    "\n",
    "plt.figure(figsize=(10, 8))\n",
    "sns.heatmap(cm_overall, annot=True, fmt='d', cmap='Blues',\n",
    "            xticklabels=class_names, yticklabels=class_names)\n",
    "plt.title('Confusion Matrix - Test Set')\n",
    "plt.xlabel('Predicted Label')\n",
    "plt.ylabel('True Label')\n",
    "plt.show()\n"
   ]
  },
  {
   "cell_type": "markdown",
   "id": "ffe08938",
   "metadata": {},
   "source": [
    "\n",
    "# 16. Feature Importance Analysis (for Random Forest)"
   ]
  },
  {
   "cell_type": "code",
   "execution_count": 52,
   "id": "c406b156",
   "metadata": {},
   "outputs": [
    {
     "name": "stdout",
     "output_type": "stream",
     "text": [
      "=== Feature Importance Analysis ===\n",
      "Top 20 Most Important Features:\n",
      "                         Feature  Importance\n",
      "108                    src_bytes    0.118702\n",
      "9             dst_host_srv_count    0.068424\n",
      "109                    srv_count    0.056273\n",
      "29                     logged_in    0.052081\n",
      "2                      dst_bytes    0.048998\n",
      "6    dst_host_same_src_port_rate    0.046368\n",
      "63              service_ftp_data    0.037194\n",
      "25                           hot    0.037178\n",
      "0                          count    0.035881\n",
      "7         dst_host_same_srv_rate    0.035233\n",
      "4         dst_host_diff_srv_rate    0.032827\n",
      "58                 service_ecr_i    0.029089\n",
      "10   dst_host_srv_diff_host_rate    0.025690\n",
      "57                 service_eco_i    0.025446\n",
      "115               wrong_fragment    0.024146\n",
      "3                 dst_host_count    0.023858\n",
      "66                  service_http    0.021458\n",
      "5           dst_host_rerror_rate    0.018570\n",
      "38             protocol_type_tcp    0.018516\n",
      "37            protocol_type_icmp    0.017360\n"
     ]
    },
    {
     "data": {
      "image/png": "[encoded data removed]",
      "text/plain": [
       "<Figure size 1200x800 with 1 Axes>"
      ]
     },
     "metadata": {},
     "output_type": "display_data"
    }
   ],
   "source": [
    "if hasattr(classifier, 'feature_importances_'):\n",
    "    print(\"=== Feature Importance Analysis ===\")\n",
    "    \n",
    "    # Get feature names (if available)\n",
    "    feature_names = train_encoded.columns.tolist()\n",
    "    \n",
    "    # Create feature importance DataFrame\n",
    "    feature_importance = pd.DataFrame({\n",
    "        'Feature': feature_names,\n",
    "        'Importance': classifier.feature_importances_\n",
    "    }).sort_values('Importance', ascending=False)\n",
    "    \n",
    "    # Display top 20 most important features\n",
    "    print(\"Top 20 Most Important Features:\")\n",
    "    print(feature_importance.head(20))\n",
    "    \n",
    "    # Visualize top 15 features\n",
    "    plt.figure(figsize=(12, 8))\n",
    "    top_features = feature_importance.head(15)\n",
    "    plt.barh(range(len(top_features)), top_features['Importance'])\n",
    "    plt.yticks(range(len(top_features)), top_features['Feature'])\n",
    "    plt.xlabel('Feature Importance')\n",
    "    plt.title('Top 15 Most Important Features')\n",
    "    plt.gca().invert_yaxis()\n",
    "    plt.tight_layout()\n",
    "    plt.show()\n"
   ]
  },
  {
   "cell_type": "markdown",
   "id": "4aa316bb",
   "metadata": {},
   "source": [
    "\n",
    "## 17. Model Summary and Comparison"
   ]
  },
  {
   "cell_type": "code",
   "execution_count": 53,
   "id": "1ed779dc",
   "metadata": {},
   "outputs": [
    {
     "name": "stdout",
     "output_type": "stream",
     "text": [
      "================================================================================\n",
      "                           MODEL SUMMARY\n",
      "================================================================================\n",
      "Dataset Information:\n"
     ]
    },
    {
     "data": {
      "text/html": [
       "<div>\n",
       "<style scoped>\n",
       "    .dataframe tbody tr th:only-of-type {\n",
       "        vertical-align: middle;\n",
       "    }\n",
       "\n",
       "    .dataframe tbody tr th {\n",
       "        vertical-align: top;\n",
       "    }\n",
       "\n",
       "    .dataframe thead th {\n",
       "        text-align: right;\n",
       "    }\n",
       "</style>\n",
       "<table border=\"1\" class=\"dataframe\">\n",
       "  <thead>\n",
       "    <tr style=\"text-align: right;\">\n",
       "      <th></th>\n",
       "      <th>Dataset</th>\n",
       "      <th>Samples</th>\n",
       "      <th>Features</th>\n",
       "      <th>Classes</th>\n",
       "    </tr>\n",
       "  </thead>\n",
       "  <tbody>\n",
       "    <tr>\n",
       "      <th>0</th>\n",
       "      <td>NSL-KDD Training</td>\n",
       "      <td>4047</td>\n",
       "      <td>116</td>\n",
       "      <td>5</td>\n",
       "    </tr>\n",
       "    <tr>\n",
       "      <th>1</th>\n",
       "      <td>NSL-KDD Test</td>\n",
       "      <td>22544</td>\n",
       "      <td>116</td>\n",
       "      <td>5</td>\n",
       "    </tr>\n",
       "  </tbody>\n",
       "</table>\n",
       "</div>"
      ],
      "text/plain": [
       "            Dataset  Samples  Features  Classes\n",
       "0  NSL-KDD Training     4047       116        5\n",
       "1      NSL-KDD Test    22544       116        5"
      ]
     },
     "metadata": {},
     "output_type": "display_data"
    },
    {
     "name": "stdout",
     "output_type": "stream",
     "text": [
      "\n",
      "Classifier: RandomForestClassifier\n",
      "Cross-validation: 5-fold Stratified\n",
      "Feature scaling: MinMaxScaler\n",
      "\n",
      "Final Performance Summary:\n",
      "  Cross-validation Accuracy: 0.9889 ± 0.0035\n",
      "  Test Set Accuracy:         0.7917\n",
      "  Test Set F1-Score:         0.6157\n",
      "  Test Set Precision:        0.7948\n",
      "  Test Set Recall:           0.5741\n",
      "\n",
      "================================================================================\n",
      "          MODEL TRAINING AND EVALUATION COMPLETED! \n",
      "================================================================================\n"
     ]
    }
   ],
   "source": [
    "\n",
    "print(\"=\" * 80)\n",
    "print(\"                           MODEL SUMMARY\")\n",
    "print(\"=\" * 80)\n",
    "\n",
    "summary_data = {\n",
    "    'Dataset': ['NSL-KDD Training', 'NSL-KDD Test'],\n",
    "    'Samples': [len(X_train), len(X_test)],\n",
    "    'Features': [X_train.shape[1], X_test.shape[1]],\n",
    "    'Classes': [len(np.unique(y_train_encoded)), len(np.unique(y_test_encoded))]\n",
    "}\n",
    "\n",
    "summary_df = pd.DataFrame(summary_data)\n",
    "print(\"Dataset Information:\")\n",
    "display(summary_df)\n",
    "\n",
    "print(f\"\\nClassifier: {type(classifier).__name__}\")\n",
    "print(f\"Cross-validation: {cv.n_splits}-fold Stratified\")\n",
    "print(f\"Feature scaling: MinMaxScaler\")\n",
    "\n",
    "print(\"\\nFinal Performance Summary:\")\n",
    "print(f\"  Cross-validation Accuracy: {np.mean(cv_metrics['accuracy']):.4f} ± {np.std(cv_metrics['accuracy']):.4f}\")\n",
    "print(f\"  Test Set Accuracy:         {test_accuracy:.4f}\")\n",
    "print(f\"  Test Set F1-Score:         {test_f1:.4f}\")\n",
    "print(f\"  Test Set Precision:        {test_precision:.4f}\")\n",
    "print(f\"  Test Set Recall:           {test_recall:.4f}\")\n",
    "\n",
    "print(\"\\n\" + \"=\" * 80)\n",
    "print(\"          MODEL TRAINING AND EVALUATION COMPLETED! \")\n",
    "print(\"=\" * 80)\n"
   ]
  },
  {
   "cell_type": "markdown",
   "id": "37cdfecc",
   "metadata": {},
   "source": [
    "\n",
    "# 18. Save Results (Optional)"
   ]
  },
  {
   "cell_type": "markdown",
   "id": "254ec600",
   "metadata": {},
   "source": [
    "\n",
    "## Uncomment and modify as needed to save results\n",
    "\n",
    "## Save the trained model\n",
    " import joblib\n",
    " joblib.dump(classifier, 'nids_random_forest_model.pkl')\n",
    " joblib.dump(scaler, 'nids_feature_scaler.pkl')\n",
    " joblib.dump(le, 'nids_label_encoder.pkl')\n",
    "\n",
    "## Save results to CSV\n",
    " per_class_df.to_csv('per_class_results.csv', index=False)\n",
    " cv_results_df.to_csv('cross_validation_results.csv', index=False)\n",
    "\n",
    " print(\"Model and results saved successfully!\")\n",
    "\n",
    "**Note**: This notebook provides a comprehensive analysis of the Network Intrusion Detection System using the NSL-KDD dataset. Make sure you have the required CSV files (`NSL-KDD__Multiclass_Classification_Dataset.csv` and `KDDTest+.csv`) in your working directory before running the notebook."
   ]
  }
 ],
 "metadata": {
  "kernelspec": {
   "display_name": "Python 3",
   "language": "python",
   "name": "python3"
  },
  "language_info": {
   "codemirror_mode": {
    "name": "ipython",
    "version": 3
   },
   "file_extension": ".py",
   "mimetype": "text/x-python",
   "name": "python",
   "nbconvert_exporter": "python",
   "pygments_lexer": "ipython3",
   "version": "3.12.2"
  }
 },
 "nbformat": 4,
 "nbformat_minor": 5
}
