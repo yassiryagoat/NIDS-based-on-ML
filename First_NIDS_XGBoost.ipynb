{
 "cells": [
  {
   "cell_type": "markdown",
   "id": "f82f9f2a",
   "metadata": {},
   "source": [
    "# Network Intrusion Detection System (NIDS) using XGBoost\n",
    "# Multi-class Classification on NSL-KDD Dataset"
   ]
  },
  {
   "cell_type": "markdown",
   "id": "eec60539",
   "metadata": {},
   "source": [
    "This notebook presents a comprehensive analysis of a Network Intrusion Detection System (NIDS) implementation using XGBoost for multi-class classification. The system is designed to automatically detect and classify network security threats using the NSL-KDD dataset, achieving robust performance across multiple attack categories through advanced machine learning techniques."
   ]
  },
  {
   "cell_type": "markdown",
   "id": "0bdb97a7",
   "metadata": {},
   "source": [
    "# 1. Import Required Libraries\n"
   ]
  },
  {
   "cell_type": "markdown",
   "id": "317ef6a7",
   "metadata": {},
   "source": [
    "## Core libraries"
   ]
  },
  {
   "cell_type": "code",
   "execution_count": 1,
   "id": "7b876bf3",
   "metadata": {},
   "outputs": [],
   "source": [
    "\n",
    "import numpy as np\n",
    "import pandas as pd\n",
    "import matplotlib.pyplot as plt\n",
    "import warnings\n",
    "warnings.filterwarnings('ignore')"
   ]
  },
  {
   "cell_type": "markdown",
   "id": "624b5a15",
   "metadata": {},
   "source": [
    "## Preprocessing\n"
   ]
  },
  {
   "cell_type": "code",
   "execution_count": 2,
   "id": "c57d1406",
   "metadata": {},
   "outputs": [],
   "source": [
    "\n",
    "from sklearn.preprocessing import LabelEncoder, MinMaxScaler, StandardScaler\n",
    "from sklearn.model_selection import train_test_split, StratifiedKFold"
   ]
  },
  {
   "cell_type": "markdown",
   "id": "ad434a89",
   "metadata": {},
   "source": [
    "\n",
    "## XGBoost"
   ]
  },
  {
   "cell_type": "code",
   "execution_count": 3,
   "id": "35dba07c",
   "metadata": {},
   "outputs": [
    {
     "name": "stdout",
     "output_type": "stream",
     "text": [
      "XGBoost imported successfully!\n"
     ]
    }
   ],
   "source": [
    "try:\n",
    "    import xgboost as xgb\n",
    "    from xgboost import XGBClassifier\n",
    "    print(\"XGBoost imported successfully!\")\n",
    "except ImportError:\n",
    "    print(\"XGBoost not found. Please install it using: pip install xgboost\")\n"
   ]
  },
  {
   "cell_type": "markdown",
   "id": "4125ed21",
   "metadata": {},
   "source": [
    "## Evaluation metrics"
   ]
  },
  {
   "cell_type": "code",
   "execution_count": 4,
   "id": "4c08deff",
   "metadata": {},
   "outputs": [],
   "source": [
    "\n",
    "from sklearn.metrics import (accuracy_score, precision_score, f1_score, recall_score, \n",
    "                           auc, multilabel_confusion_matrix, roc_curve, classification_report)\n",
    "\n"
   ]
  },
  {
   "cell_type": "markdown",
   "id": "e699f00f",
   "metadata": {},
   "source": [
    "# 2. Load and Explore Dataset"
   ]
  },
  {
   "cell_type": "markdown",
   "id": "2c3f10ff",
   "metadata": {},
   "source": [
    "Purpose: Load datasets and perform initial data quality assessment.\n",
    "**This step ensures data integrity and provides insights into the dataset structure before processing.**\n"
   ]
  },
  {
   "cell_type": "markdown",
   "id": "b260bbb9",
   "metadata": {},
   "source": [
    "\n",
    "## Load datasets\n"
   ]
  },
  {
   "cell_type": "code",
   "execution_count": 5,
   "id": "487cea1f",
   "metadata": {},
   "outputs": [
    {
     "name": "stdout",
     "output_type": "stream",
     "text": [
      "Datasets loaded successfully!\n",
      "Training dataset shape: (4047, 43)\n",
      "Test dataset shape: (22544, 43)\n"
     ]
    }
   ],
   "source": [
    "try:\n",
    "    train_dataset = pd.read_csv('NSL-KDD__Multiclass_Classification_Dataset.csv')\n",
    "    test_dataset = pd.read_csv('KDDTest+.csv')\n",
    "    print(\"Datasets loaded successfully!\")\n",
    "    print(f\"Training dataset shape: {train_dataset.shape}\")\n",
    "    print(f\"Test dataset shape: {test_dataset.shape}\")\n",
    "except FileNotFoundError as e:\n",
    "    print(f\"Error loading datasets: {e}\")\n",
    "    print(\"Please ensure the CSV files are in the correct directory\")"
   ]
  },
  {
   "cell_type": "markdown",
   "id": "32e19f6b",
   "metadata": {},
   "source": [
    "## Display basic information about the datasets\n"
   ]
  },
  {
   "cell_type": "code",
   "execution_count": 6,
   "id": "c415281f",
   "metadata": {},
   "outputs": [
    {
     "name": "stdout",
     "output_type": "stream",
     "text": [
      "\n",
      "--- Training Dataset Info ---\n",
      "<class 'pandas.core.frame.DataFrame'>\n",
      "RangeIndex: 4047 entries, 0 to 4046\n",
      "Data columns (total 43 columns):\n",
      " #   Column                       Non-Null Count  Dtype  \n",
      "---  ------                       --------------  -----  \n",
      " 0   duration                     4047 non-null   int64  \n",
      " 1   protocol_type                4047 non-null   object \n",
      " 2   service                      4047 non-null   object \n",
      " 3   flag                         4047 non-null   object \n",
      " 4   src_bytes                    4047 non-null   int64  \n",
      " 5   dst_bytes                    4047 non-null   int64  \n",
      " 6   land                         4047 non-null   int64  \n",
      " 7   wrong_fragment               4047 non-null   int64  \n",
      " 8   urgent                       4047 non-null   int64  \n",
      " 9   hot                          4047 non-null   int64  \n",
      " 10  num_failed_logins            4047 non-null   int64  \n",
      " 11  logged_in                    4047 non-null   int64  \n",
      " 12  num_compromised              4047 non-null   int64  \n",
      " 13  root_shell                   4047 non-null   int64  \n",
      " 14  su_attempted                 4047 non-null   int64  \n",
      " 15  num_root                     4047 non-null   int64  \n",
      " 16  num_file_creations           4047 non-null   int64  \n",
      " 17  num_shells                   4047 non-null   int64  \n",
      " 18  num_access_files             4047 non-null   int64  \n",
      " 19  num_outbound_cmds            4047 non-null   int64  \n",
      " 20  is_host_login                4047 non-null   int64  \n",
      " 21  is_guest_login               4047 non-null   int64  \n",
      " 22  count                        4047 non-null   int64  \n",
      " 23  srv_count                    4047 non-null   int64  \n",
      " 24  serror_rate                  4047 non-null   float64\n",
      " 25  srv_serror_rate              4047 non-null   float64\n",
      " 26  rerror_rate                  4047 non-null   float64\n",
      " 27  srv_rerror_rate              4047 non-null   float64\n",
      " 28  same_srv_rate                4047 non-null   float64\n",
      " 29  diff_srv_rate                4047 non-null   float64\n",
      " 30  srv_diff_host_rate           4047 non-null   float64\n",
      " 31  dst_host_count               4047 non-null   int64  \n",
      " 32  dst_host_srv_count           4047 non-null   int64  \n",
      " 33  dst_host_same_srv_rate       4047 non-null   float64\n",
      " 34  dst_host_diff_srv_rate       4047 non-null   float64\n",
      " 35  dst_host_same_src_port_rate  4047 non-null   float64\n",
      " 36  dst_host_srv_diff_host_rate  4047 non-null   float64\n",
      " 37  dst_host_serror_rate         4047 non-null   float64\n",
      " 38  dst_host_srv_serror_rate     4047 non-null   float64\n",
      " 39  dst_host_rerror_rate         4047 non-null   float64\n",
      " 40  dst_host_srv_rerror_rate     4047 non-null   float64\n",
      " 41  class_name                   4047 non-null   object \n",
      " 42  difficultylevel              4047 non-null   int64  \n",
      "dtypes: float64(15), int64(24), object(4)\n",
      "memory usage: 1.3+ MB\n",
      "None\n",
      "\n",
      "--- Test Dataset Info ---\n",
      "<class 'pandas.core.frame.DataFrame'>\n",
      "RangeIndex: 22544 entries, 0 to 22543\n",
      "Data columns (total 43 columns):\n",
      " #   Column                       Non-Null Count  Dtype  \n",
      "---  ------                       --------------  -----  \n",
      " 0   duration                     22544 non-null  int64  \n",
      " 1   protocol_type                22544 non-null  object \n",
      " 2   service                      22544 non-null  object \n",
      " 3   flag                         22544 non-null  object \n",
      " 4   src_bytes                    22544 non-null  int64  \n",
      " 5   dst_bytes                    22544 non-null  int64  \n",
      " 6   land                         22544 non-null  int64  \n",
      " 7   wrong_fragment               22544 non-null  int64  \n",
      " 8   urgent                       22544 non-null  int64  \n",
      " 9   hot                          22544 non-null  int64  \n",
      " 10  num_failed_logins            22544 non-null  int64  \n",
      " 11  logged_in                    22544 non-null  int64  \n",
      " 12  num_compromised              22544 non-null  int64  \n",
      " 13  root_shell                   22544 non-null  int64  \n",
      " 14  su_attempted                 22544 non-null  int64  \n",
      " 15  num_root                     22544 non-null  int64  \n",
      " 16  num_file_creations           22544 non-null  int64  \n",
      " 17  num_shells                   22544 non-null  int64  \n",
      " 18  num_access_files             22544 non-null  int64  \n",
      " 19  num_outbound_cmds            22544 non-null  int64  \n",
      " 20  is_host_login                22544 non-null  int64  \n",
      " 21  is_guest_login               22544 non-null  int64  \n",
      " 22  count                        22544 non-null  int64  \n",
      " 23  srv_count                    22544 non-null  int64  \n",
      " 24  serror_rate                  22544 non-null  float64\n",
      " 25  srv_serror_rate              22544 non-null  float64\n",
      " 26  rerror_rate                  22544 non-null  float64\n",
      " 27  srv_rerror_rate              22544 non-null  float64\n",
      " 28  same_srv_rate                22544 non-null  float64\n",
      " 29  diff_srv_rate                22544 non-null  float64\n",
      " 30  srv_diff_host_rate           22544 non-null  float64\n",
      " 31  dst_host_count               22544 non-null  int64  \n",
      " 32  dst_host_srv_count           22544 non-null  int64  \n",
      " 33  dst_host_same_srv_rate       22544 non-null  float64\n",
      " 34  dst_host_diff_srv_rate       22544 non-null  float64\n",
      " 35  dst_host_same_src_port_rate  22544 non-null  float64\n",
      " 36  dst_host_srv_diff_host_rate  22544 non-null  float64\n",
      " 37  dst_host_serror_rate         22544 non-null  float64\n",
      " 38  dst_host_srv_serror_rate     22544 non-null  float64\n",
      " 39  dst_host_rerror_rate         22544 non-null  float64\n",
      " 40  dst_host_srv_rerror_rate     22544 non-null  float64\n",
      " 41  class                        22544 non-null  object \n",
      " 42  difficultylevel              22544 non-null  int64  \n",
      "dtypes: float64(15), int64(24), object(4)\n",
      "memory usage: 7.4+ MB\n",
      "None\n"
     ]
    }
   ],
   "source": [
    "print(\"\\n--- Training Dataset Info ---\")\n",
    "print(train_dataset.info())\n",
    "print(\"\\n--- Test Dataset Info ---\")\n",
    "print(test_dataset.info())\n"
   ]
  },
  {
   "cell_type": "markdown",
   "id": "cf5ac4a7",
   "metadata": {},
   "source": [
    "## Display first few rows"
   ]
  },
  {
   "cell_type": "code",
   "execution_count": 7,
   "id": "125a4070",
   "metadata": {},
   "outputs": [
    {
     "name": "stdout",
     "output_type": "stream",
     "text": [
      "\n",
      "--- Training Dataset Head ---\n"
     ]
    },
    {
     "data": {
      "text/html": [
       "<div>\n",
       "<style scoped>\n",
       "    .dataframe tbody tr th:only-of-type {\n",
       "        vertical-align: middle;\n",
       "    }\n",
       "\n",
       "    .dataframe tbody tr th {\n",
       "        vertical-align: top;\n",
       "    }\n",
       "\n",
       "    .dataframe thead th {\n",
       "        text-align: right;\n",
       "    }\n",
       "</style>\n",
       "<table border=\"1\" class=\"dataframe\">\n",
       "  <thead>\n",
       "    <tr style=\"text-align: right;\">\n",
       "      <th></th>\n",
       "      <th>duration</th>\n",
       "      <th>protocol_type</th>\n",
       "      <th>service</th>\n",
       "      <th>flag</th>\n",
       "      <th>src_bytes</th>\n",
       "      <th>dst_bytes</th>\n",
       "      <th>land</th>\n",
       "      <th>wrong_fragment</th>\n",
       "      <th>urgent</th>\n",
       "      <th>hot</th>\n",
       "      <th>...</th>\n",
       "      <th>dst_host_same_srv_rate</th>\n",
       "      <th>dst_host_diff_srv_rate</th>\n",
       "      <th>dst_host_same_src_port_rate</th>\n",
       "      <th>dst_host_srv_diff_host_rate</th>\n",
       "      <th>dst_host_serror_rate</th>\n",
       "      <th>dst_host_srv_serror_rate</th>\n",
       "      <th>dst_host_rerror_rate</th>\n",
       "      <th>dst_host_srv_rerror_rate</th>\n",
       "      <th>class_name</th>\n",
       "      <th>difficultylevel</th>\n",
       "    </tr>\n",
       "  </thead>\n",
       "  <tbody>\n",
       "    <tr>\n",
       "      <th>0</th>\n",
       "      <td>0</td>\n",
       "      <td>tcp</td>\n",
       "      <td>ftp</td>\n",
       "      <td>S0</td>\n",
       "      <td>0</td>\n",
       "      <td>0</td>\n",
       "      <td>0</td>\n",
       "      <td>0</td>\n",
       "      <td>0</td>\n",
       "      <td>0</td>\n",
       "      <td>...</td>\n",
       "      <td>0.07</td>\n",
       "      <td>0.06</td>\n",
       "      <td>0.0</td>\n",
       "      <td>0.0</td>\n",
       "      <td>1.0</td>\n",
       "      <td>1.0</td>\n",
       "      <td>0.0</td>\n",
       "      <td>0.0</td>\n",
       "      <td>DoS</td>\n",
       "      <td>19</td>\n",
       "    </tr>\n",
       "    <tr>\n",
       "      <th>1</th>\n",
       "      <td>0</td>\n",
       "      <td>tcp</td>\n",
       "      <td>http_443</td>\n",
       "      <td>S0</td>\n",
       "      <td>0</td>\n",
       "      <td>0</td>\n",
       "      <td>0</td>\n",
       "      <td>0</td>\n",
       "      <td>0</td>\n",
       "      <td>0</td>\n",
       "      <td>...</td>\n",
       "      <td>0.07</td>\n",
       "      <td>0.07</td>\n",
       "      <td>0.0</td>\n",
       "      <td>0.0</td>\n",
       "      <td>1.0</td>\n",
       "      <td>1.0</td>\n",
       "      <td>0.0</td>\n",
       "      <td>0.0</td>\n",
       "      <td>DoS</td>\n",
       "      <td>18</td>\n",
       "    </tr>\n",
       "    <tr>\n",
       "      <th>2</th>\n",
       "      <td>0</td>\n",
       "      <td>tcp</td>\n",
       "      <td>uucp_path</td>\n",
       "      <td>S0</td>\n",
       "      <td>0</td>\n",
       "      <td>0</td>\n",
       "      <td>0</td>\n",
       "      <td>0</td>\n",
       "      <td>0</td>\n",
       "      <td>0</td>\n",
       "      <td>...</td>\n",
       "      <td>0.07</td>\n",
       "      <td>0.07</td>\n",
       "      <td>0.0</td>\n",
       "      <td>0.0</td>\n",
       "      <td>1.0</td>\n",
       "      <td>1.0</td>\n",
       "      <td>0.0</td>\n",
       "      <td>0.0</td>\n",
       "      <td>DoS</td>\n",
       "      <td>20</td>\n",
       "    </tr>\n",
       "    <tr>\n",
       "      <th>3</th>\n",
       "      <td>0</td>\n",
       "      <td>tcp</td>\n",
       "      <td>private</td>\n",
       "      <td>S0</td>\n",
       "      <td>0</td>\n",
       "      <td>0</td>\n",
       "      <td>0</td>\n",
       "      <td>0</td>\n",
       "      <td>0</td>\n",
       "      <td>0</td>\n",
       "      <td>...</td>\n",
       "      <td>0.04</td>\n",
       "      <td>0.08</td>\n",
       "      <td>0.0</td>\n",
       "      <td>0.0</td>\n",
       "      <td>1.0</td>\n",
       "      <td>1.0</td>\n",
       "      <td>0.0</td>\n",
       "      <td>0.0</td>\n",
       "      <td>DoS</td>\n",
       "      <td>21</td>\n",
       "    </tr>\n",
       "    <tr>\n",
       "      <th>4</th>\n",
       "      <td>0</td>\n",
       "      <td>tcp</td>\n",
       "      <td>private</td>\n",
       "      <td>S0</td>\n",
       "      <td>0</td>\n",
       "      <td>0</td>\n",
       "      <td>0</td>\n",
       "      <td>0</td>\n",
       "      <td>0</td>\n",
       "      <td>0</td>\n",
       "      <td>...</td>\n",
       "      <td>0.09</td>\n",
       "      <td>0.06</td>\n",
       "      <td>0.0</td>\n",
       "      <td>0.0</td>\n",
       "      <td>1.0</td>\n",
       "      <td>1.0</td>\n",
       "      <td>0.0</td>\n",
       "      <td>0.0</td>\n",
       "      <td>DoS</td>\n",
       "      <td>21</td>\n",
       "    </tr>\n",
       "  </tbody>\n",
       "</table>\n",
       "<p>5 rows × 43 columns</p>\n",
       "</div>"
      ],
      "text/plain": [
       "   duration protocol_type    service flag  src_bytes  dst_bytes  land  \\\n",
       "0         0           tcp        ftp   S0          0          0     0   \n",
       "1         0           tcp   http_443   S0          0          0     0   \n",
       "2         0           tcp  uucp_path   S0          0          0     0   \n",
       "3         0           tcp    private   S0          0          0     0   \n",
       "4         0           tcp    private   S0          0          0     0   \n",
       "\n",
       "   wrong_fragment  urgent  hot  ...  dst_host_same_srv_rate  \\\n",
       "0               0       0    0  ...                    0.07   \n",
       "1               0       0    0  ...                    0.07   \n",
       "2               0       0    0  ...                    0.07   \n",
       "3               0       0    0  ...                    0.04   \n",
       "4               0       0    0  ...                    0.09   \n",
       "\n",
       "   dst_host_diff_srv_rate  dst_host_same_src_port_rate  \\\n",
       "0                    0.06                          0.0   \n",
       "1                    0.07                          0.0   \n",
       "2                    0.07                          0.0   \n",
       "3                    0.08                          0.0   \n",
       "4                    0.06                          0.0   \n",
       "\n",
       "   dst_host_srv_diff_host_rate  dst_host_serror_rate  \\\n",
       "0                          0.0                   1.0   \n",
       "1                          0.0                   1.0   \n",
       "2                          0.0                   1.0   \n",
       "3                          0.0                   1.0   \n",
       "4                          0.0                   1.0   \n",
       "\n",
       "   dst_host_srv_serror_rate  dst_host_rerror_rate  dst_host_srv_rerror_rate  \\\n",
       "0                       1.0                   0.0                       0.0   \n",
       "1                       1.0                   0.0                       0.0   \n",
       "2                       1.0                   0.0                       0.0   \n",
       "3                       1.0                   0.0                       0.0   \n",
       "4                       1.0                   0.0                       0.0   \n",
       "\n",
       "   class_name  difficultylevel   \n",
       "0         DoS                19  \n",
       "1         DoS                18  \n",
       "2         DoS                20  \n",
       "3         DoS                21  \n",
       "4         DoS                21  \n",
       "\n",
       "[5 rows x 43 columns]"
      ]
     },
     "metadata": {},
     "output_type": "display_data"
    }
   ],
   "source": [
    "print(\"\\n--- Training Dataset Head ---\")\n",
    "display(train_dataset.head())"
   ]
  },
  {
   "cell_type": "markdown",
   "id": "74d9910a",
   "metadata": {},
   "source": [
    "\n",
    "# 3. Data Cleaning and Preprocessing"
   ]
  },
  {
   "cell_type": "markdown",
   "id": "45b43515",
   "metadata": {},
   "source": [
    "Purpose: Handle data quality issues and prepare data for analysis.\n"
   ]
  },
  {
   "cell_type": "markdown",
   "id": "96521775",
   "metadata": {},
   "source": [
    "\n",
    "## Handle inconsistent data\n"
   ]
  },
  {
   "cell_type": "code",
   "execution_count": 8,
   "id": "e859345d",
   "metadata": {},
   "outputs": [
    {
     "name": "stdout",
     "output_type": "stream",
     "text": [
      "--- Data Cleaning ---\n",
      "Training set - No of null values: 0\n",
      "Test set - No of null values: 0\n",
      "Training dataset shape after cleaning: (4047, 43)\n",
      "Test dataset shape after cleaning: (22544, 43)\n"
     ]
    }
   ],
   "source": [
    "\n",
    "print(\"--- Data Cleaning ---\")\n",
    "\n",
    "#Converts infinite values to NaN for proper handling\n",
    "#Prevents mathematical errors in calculations\n",
    "train_dataset = train_dataset.replace([np.inf, -np.inf], np.nan)\n",
    "\n",
    "#Removes rows with missing values\n",
    "#Ensures data completeness for model training\n",
    "train_dataset = train_dataset.dropna()\n",
    "\n",
    "#Eliminates redundant records\n",
    "#Prevents model bias from repeated patterns\n",
    "train_dataset = train_dataset.drop_duplicates()\n",
    "\n",
    "print('Training set - No of null values:', train_dataset.isnull().sum().sum())\n",
    "\n",
    "test_dataset = test_dataset.replace([np.inf, -np.inf], np.nan) \n",
    "test_dataset = test_dataset.dropna()\n",
    "test_dataset = test_dataset.drop_duplicates()\n",
    "print('Test set - No of null values:', test_dataset.isnull().sum().sum())\n",
    "\n",
    "print(f\"Training dataset shape after cleaning: {train_dataset.shape}\")\n",
    "print(f\"Test dataset shape after cleaning: {test_dataset.shape}\")"
   ]
  },
  {
   "cell_type": "markdown",
   "id": "db331b3d",
   "metadata": {},
   "source": [
    "# 4. Standardize Attack Categories"
   ]
  },
  {
   "cell_type": "markdown",
   "id": "ac2a87bb",
   "metadata": {},
   "source": [
    "Purpose: Normalize attack names into standard categories for consistent classification.\n",
    "\n",
    "**This standardization reduces the complexity from 39+ attack types to 5 main categories, making the classification problem more manageable and interpretable**"
   ]
  },
  {
   "cell_type": "markdown",
   "id": "10beae0a",
   "metadata": {},
   "source": [
    "## Generalize different types of attacks in test set"
   ]
  },
  {
   "cell_type": "code",
   "execution_count": 9,
   "id": "8be61a5f",
   "metadata": {},
   "outputs": [
    {
     "name": "stdout",
     "output_type": "stream",
     "text": [
      "--- Standardizing Attack Categories ---\n",
      "Attack categories standardized successfully!\n"
     ]
    }
   ],
   "source": [
    "print(\"--- Standardizing Attack Categories ---\")\n",
    "\n",
    "DoS = ['apache2','mailbomb','neptune','teardrop','smurf','pod','back','land','processtable']\n",
    "test_dataset = test_dataset.replace(to_replace=DoS, value='DoS')\n",
    "\n",
    "U2R = ['httptunnel','ps','xterm','sqlattack','rootkit','buffer_overflow','loadmodule','perl']\n",
    "test_dataset = test_dataset.replace(to_replace=U2R, value='U2R')\n",
    "\n",
    "R2L = ['udpstorm','worm','snmpgetattack','sendmail','named','snmpguess','xsnoop','xlock',\n",
    "       'warezclient','guess_passwd','ftp_write','multihop','imap','phf','warezmaster','spy']\n",
    "test_dataset = test_dataset.replace(to_replace=R2L, value='R2L')\n",
    "\n",
    "Probe = ['mscan','saint','ipsweep','portsweep','nmap','satan']\n",
    "test_dataset = test_dataset.replace(to_replace=Probe, value='Probe')\n",
    "\n",
    "print(\"Attack categories standardized successfully!\")"
   ]
  },
  {
   "cell_type": "markdown",
   "id": "60ce772b",
   "metadata": {},
   "source": [
    "# 5. Extract Target Variables and Analyze Class Distribution\n",
    "\n"
   ]
  },
  {
   "cell_type": "markdown",
   "id": "8ca8b2fc",
   "metadata": {},
   "source": [
    "## Create dependent variable vectors"
   ]
  },
  {
   "cell_type": "code",
   "execution_count": 10,
   "id": "038d5c56",
   "metadata": {},
   "outputs": [
    {
     "name": "stdout",
     "output_type": "stream",
     "text": [
      "Training set class distribution:\n",
      "    Class  Count\n",
      "0     DoS   1000\n",
      "1   Probe   1000\n",
      "2     R2L    995\n",
      "3     U2R     52\n",
      "4  normal   1000\n",
      "\n",
      "Test set class distribution:\n",
      "    Class  Count\n",
      "0     DoS   7456\n",
      "1   Probe   2421\n",
      "2     R2L   2756\n",
      "3     U2R    200\n",
      "4  normal   9711\n"
     ]
    }
   ],
   "source": [
    "\n",
    "y_train = train_dataset.iloc[:, -2].values\n",
    "y_test = test_dataset.iloc[:, -2].values\n",
    "\n",
    "print(\"Training set class distribution:\")\n",
    "unique_train, counts_train = np.unique(y_train, return_counts=True)\n",
    "train_dist = pd.DataFrame({'Class': unique_train, 'Count': counts_train})\n",
    "print(train_dist)\n",
    "\n",
    "print(\"\\nTest set class distribution:\")\n",
    "unique_test, counts_test = np.unique(y_test, return_counts=True)\n",
    "test_dist = pd.DataFrame({'Class': unique_test, 'Count': counts_test})\n",
    "print(test_dist)\n",
    "\n"
   ]
  },
  {
   "cell_type": "markdown",
   "id": "49c27d82",
   "metadata": {},
   "source": [
    "## Visualize class distribution"
   ]
  },
  {
   "cell_type": "code",
   "execution_count": 11,
   "id": "1f0456e4",
   "metadata": {},
   "outputs": [
    {
     "data": {
      "image/png": "[encoded data removed]",
      "text/plain": [
       "<Figure size 1500x600 with 2 Axes>"
      ]
     },
     "metadata": {},
     "output_type": "display_data"
    }
   ],
   "source": [
    "\n",
    "fig, (ax1, ax2) = plt.subplots(1, 2, figsize=(15, 6))\n",
    "\n",
    "ax1.bar(unique_train, counts_train)\n",
    "ax1.set_title('Training Set Class Distribution')\n",
    "ax1.set_xlabel('Attack Type')\n",
    "ax1.set_ylabel('Count')\n",
    "ax1.tick_params(axis='x', rotation=45)\n",
    "\n",
    "ax2.bar(unique_test, counts_test)\n",
    "ax2.set_title('Test Set Class Distribution')\n",
    "ax2.set_xlabel('Attack Type')\n",
    "ax2.set_ylabel('Count')\n",
    "ax2.tick_params(axis='x', rotation=45)\n",
    "\n",
    "plt.tight_layout()\n",
    "plt.show()\n"
   ]
  },
  {
   "cell_type": "markdown",
   "id": "7eb94408",
   "metadata": {},
   "source": [
    "# 6. One-Hot Encoding\n"
   ]
  },
  {
   "cell_type": "markdown",
   "id": "49726954",
   "metadata": {},
   "source": [
    "Purpose: Convert categorical variables into numerical format suitable for machine learning.\n"
   ]
  },
  {
   "cell_type": "markdown",
   "id": "714e9129",
   "metadata": {},
   "source": [
    "Example:\n",
    "\n",
    "protocol_type:      ['tcp', 'udp', 'icmp']\n",
    "protocol_type_tcp:  [  1  ,   0  ,   0   ]\n",
    "protocol_type_udp:  [  0  ,   1  ,   0   ]  \n",
    "protocol_type_icmp: [  0  ,   0  ,   1   ]\n"
   ]
  },
  {
   "cell_type": "code",
   "execution_count": 12,
   "id": "37671032",
   "metadata": {},
   "outputs": [
    {
     "name": "stdout",
     "output_type": "stream",
     "text": [
      "--- One-Hot Encoding ---\n"
     ]
    }
   ],
   "source": [
    "\n",
    "print(\"--- One-Hot Encoding ---\")\n"
   ]
  },
  {
   "cell_type": "markdown",
   "id": "f8f000e8",
   "metadata": {},
   "source": [
    "## Remove target columns before encoding"
   ]
  },
  {
   "cell_type": "code",
   "execution_count": 13,
   "id": "8405843a",
   "metadata": {},
   "outputs": [
    {
     "name": "stdout",
     "output_type": "stream",
     "text": [
      "After encoding - Training features: 109\n",
      "After encoding - Test features: 116\n"
     ]
    }
   ],
   "source": [
    "\n",
    "train_dataset.drop(train_dataset.iloc[:, [41, 42]], inplace=True, axis=1) \n",
    "train_dataset = pd.get_dummies(train_dataset)\n",
    "\n",
    "test_dataset.drop(test_dataset.iloc[:, [41, 42]], inplace=True, axis=1) \n",
    "test_dataset = pd.get_dummies(test_dataset)\n",
    "\n",
    "print(f\"After encoding - Training features: {train_dataset.shape[1]}\")\n",
    "print(f\"After encoding - Test features: {test_dataset.shape[1]}\")\n"
   ]
  },
  {
   "cell_type": "markdown",
   "id": "f070b8d7",
   "metadata": {},
   "source": [
    "\n",
    "## Handle missing columns between train and test sets"
   ]
  },
  {
   "cell_type": "code",
   "execution_count": 14,
   "id": "e8828227",
   "metadata": {},
   "outputs": [
    {
     "name": "stdout",
     "output_type": "stream",
     "text": [
      "Columns missing in training set: 7\n",
      "Columns missing in test set: 0\n"
     ]
    }
   ],
   "source": [
    "train_cols = set(train_dataset.columns)\n",
    "test_cols = set(test_dataset.columns)\n",
    "\n",
    "missing_in_train = test_cols - train_cols\n",
    "missing_in_test = train_cols - test_cols\n",
    "\n",
    "print(f\"Columns missing in training set: {len(missing_in_train)}\")\n",
    "print(f\"Columns missing in test set: {len(missing_in_test)}\")\n"
   ]
  },
  {
   "cell_type": "markdown",
   "id": "60386de8",
   "metadata": {},
   "source": [
    "## Add missing columns"
   ]
  },
  {
   "cell_type": "code",
   "execution_count": 15,
   "id": "593411c3",
   "metadata": {},
   "outputs": [],
   "source": [
    "\n",
    "for col in missing_in_train:\n",
    "    train_dataset[col] = 0\n",
    "\n",
    "for col in missing_in_test:\n",
    "    test_dataset[col] = 0"
   ]
  },
  {
   "cell_type": "markdown",
   "id": "382ba1ae",
   "metadata": {},
   "source": [
    "\n",
    "## Ensure same column order"
   ]
  },
  {
   "cell_type": "code",
   "execution_count": 16,
   "id": "336eb903",
   "metadata": {},
   "outputs": [
    {
     "name": "stdout",
     "output_type": "stream",
     "text": [
      "Final - Training features: 116\n",
      "Final - Test features: 116\n"
     ]
    }
   ],
   "source": [
    "train_dataset = train_dataset.reindex(sorted(train_dataset.columns), axis=1)\n",
    "test_dataset = test_dataset.reindex(sorted(test_dataset.columns), axis=1)\n",
    "\n",
    "print(f\"Final - Training features: {train_dataset.shape[1]}\")\n",
    "print(f\"Final - Test features: {test_dataset.shape[1]}\")"
   ]
  },
  {
   "cell_type": "markdown",
   "id": "ccda7131",
   "metadata": {},
   "source": [
    "# 7. Prepare Feature Matrices and Encode Labels"
   ]
  },
  {
   "cell_type": "markdown",
   "id": "164e8d6f",
   "metadata": {},
   "source": [
    "Purpose: Convert categorical target labels into numerical format."
   ]
  },
  {
   "cell_type": "markdown",
   "id": "42597ba8",
   "metadata": {},
   "source": [
    "Exemple:\n",
    "'Normal' → 0\n",
    "'DoS' → 1\n",
    "'Probe' → 2\n",
    "'R2L' → 3\n",
    "'U2R' → 4"
   ]
  },
  {
   "cell_type": "markdown",
   "id": "76b36c9c",
   "metadata": {},
   "source": [
    "## Create feature matrices"
   ]
  },
  {
   "cell_type": "code",
   "execution_count": 17,
   "id": "6e97058f",
   "metadata": {},
   "outputs": [],
   "source": [
    "\n",
    "X_train = train_dataset.iloc[:, :].values\n",
    "X_test = test_dataset.iloc[:, :].values"
   ]
  },
  {
   "cell_type": "markdown",
   "id": "91e688b3",
   "metadata": {},
   "source": [
    "## Encode categorical target variables"
   ]
  },
  {
   "cell_type": "code",
   "execution_count": 18,
   "id": "35cc273c",
   "metadata": {},
   "outputs": [
    {
     "name": "stdout",
     "output_type": "stream",
     "text": [
      "After label encoding:\n"
     ]
    },
    {
     "name": "stdout",
     "output_type": "stream",
     "text": [
      "Training set class distribution: [[   0    1    2    3    4]\n",
      " [1000 1000  995   52 1000]]\n",
      "Test set class distribution: [[   0    1    2    3    4]\n",
      " [7456 2421 2756  200 9711]]\n"
     ]
    }
   ],
   "source": [
    "le = LabelEncoder()\n",
    "y_train = le.fit_transform(y_train)\n",
    "y_test = le.transform(y_test)\n",
    "print(\"After label encoding:\")\n",
    "print(\"Training set class distribution:\", np.asarray(np.unique(y_train, return_counts=True)))\n",
    "print(\"Test set class distribution:\", np.asarray(np.unique(y_test, return_counts=True)))"
   ]
  },
  {
   "cell_type": "markdown",
   "id": "687f2cec",
   "metadata": {},
   "source": [
    "\n",
    "\n",
    "## Store class names for later reference"
   ]
  },
  {
   "cell_type": "code",
   "execution_count": 19,
   "id": "490a93d3",
   "metadata": {},
   "outputs": [
    {
     "name": "stdout",
     "output_type": "stream",
     "text": [
      "Class mapping:\n",
      "0: DoS\n",
      "1: Probe\n",
      "2: R2L\n",
      "3: U2R\n",
      "4: normal\n"
     ]
    }
   ],
   "source": [
    "class_names = le.classes_\n",
    "print(\"Class mapping:\")\n",
    "class_mapping = {i: name for i, name in enumerate(class_names)}\n",
    "for i, name in class_mapping.items():\n",
    "    print(f\"{i}: {name}\")"
   ]
  },
  {
   "cell_type": "markdown",
   "id": "2e2d69c0",
   "metadata": {},
   "source": [
    "# 8. Feature Scaling"
   ]
  },
  {
   "cell_type": "markdown",
   "id": "b1e7a0c6",
   "metadata": {},
   "source": [
    "Purpose: Normalize feature values to prevent dominance by features with larger scales.\n",
    "\n",
    "Benefits:Reduced numerical instability"
   ]
  },
  {
   "cell_type": "code",
   "execution_count": 20,
   "id": "22c5ea01",
   "metadata": {},
   "outputs": [
    {
     "name": "stdout",
     "output_type": "stream",
     "text": [
      "--- Feature Scaling ---\n",
      "Feature scaling completed!\n",
      "Training features shape: (4047, 116)\n",
      "Test features shape: (22544, 116)\n",
      "Feature value range: [0.000, 1.000]\n"
     ]
    }
   ],
   "source": [
    "\n",
    "print(\"--- Feature Scaling ---\")\n",
    "scaler = MinMaxScaler()\n",
    "X_train = scaler.fit_transform(X_train)\n",
    "X_test = scaler.transform(X_test)\n",
    "\n",
    "print(\"Feature scaling completed!\")\n",
    "print(f\"Training features shape: {X_train.shape}\")\n",
    "print(f\"Test features shape: {X_test.shape}\")\n",
    "print(f\"Feature value range: [{X_train.min():.3f}, {X_train.max():.3f}]\")\n"
   ]
  },
  {
   "cell_type": "markdown",
   "id": "613bd3e0",
   "metadata": {},
   "source": [
    "# 9. XGBoost Model Configuration"
   ]
  },
  {
   "cell_type": "markdown",
   "id": "19d8a50d",
   "metadata": {},
   "source": [
    "XGBoost (eXtreme Gradient Boosting) is an optimized distributed gradient boosting framework designed for speed and performance."
   ]
  },
  {
   "cell_type": "markdown",
   "id": "dd143be4",
   "metadata": {},
   "source": [
    "## XGBoost Configuration with optimized parameters"
   ]
  },
  {
   "cell_type": "code",
   "execution_count": 21,
   "id": "f04333e8",
   "metadata": {},
   "outputs": [
    {
     "name": "stdout",
     "output_type": "stream",
     "text": [
      "\n",
      "Using XGBoost classifier with configuration:\n",
      "Objective: multi:softprob\n",
      "N_estimators: 300\n",
      "Max_depth: 6\n",
      "Learning_rate: 0.1\n",
      "Subsample: 0.8\n",
      "Colsample_bytree: 0.8\n"
     ]
    }
   ],
   "source": [
    "classifier = XGBClassifier(\n",
    "    objective='multi:softprob',        # Multi-class classification with probability output\n",
    "    n_estimators=300,                  # Number of boosting rounds\n",
    "    max_depth=6,                       # Maximum depth of each tree\n",
    "    learning_rate=0.1,                 # Step size shrinkage to prevent overfitting\n",
    "    subsample=0.8,                     # Subsample ratio of the training instances\n",
    "    colsample_bytree=0.8,             # Subsample ratio of columns when constructing each tree\n",
    "    colsample_bylevel=0.8,            # Subsample ratio of columns for each level\n",
    "    colsample_bynode=0.8,             # Subsample ratio of columns for each node\n",
    "    random_state=42,                   # Random seed for reproducibility\n",
    "    n_jobs=-1,                        # Use all available cores\n",
    "    reg_alpha=0.1,                    # L1 regularization term on weights\n",
    "    reg_lambda=1.0,                   # L2 regularization term on weights\n",
    "    gamma=0.1,                        # Minimum loss reduction required to make a split\n",
    "    min_child_weight=1,               # Minimum sum of instance weight needed in a child\n",
    "    scale_pos_weight=1,               # Controls the balance of positive and negative weights\n",
    "    tree_method='auto',               # Tree construction algorithm\n",
    "    validate_parameters=True,          # Validate input parameters\n",
    "    early_stopping_rounds=50,         # Stop if no improvement for 50 rounds\n",
    "    eval_metric='mlogloss',           # Evaluation metric for multiclass\n",
    "    verbosity=1                       # Verbosity of printing messages\n",
    ")\n",
    "\n",
    "print(f\"\\nUsing XGBoost classifier with configuration:\")\n",
    "print(f\"Objective: {classifier.objective}\")\n",
    "print(f\"N_estimators: {classifier.n_estimators}\")\n",
    "print(f\"Max_depth: {classifier.max_depth}\")\n",
    "print(f\"Learning_rate: {classifier.learning_rate}\")\n",
    "print(f\"Subsample: {classifier.subsample}\")\n",
    "print(f\"Colsample_bytree: {classifier.colsample_bytree}\")\n"
   ]
  },
  {
   "cell_type": "markdown",
   "id": "ee7aadfd",
   "metadata": {},
   "source": [
    "# 10. Cross-Validation Evaluation\n"
   ]
  },
  {
   "cell_type": "markdown",
   "id": "b1f3a639",
   "metadata": {},
   "source": [
    "## Stratified K-Fold Cross-Validation"
   ]
  },
  {
   "cell_type": "markdown",
   "id": "769fbdc8",
   "metadata": {},
   "source": [
    "Purpose: Ensure robust model evaluation with balanced class representation."
   ]
  },
  {
   "cell_type": "code",
   "execution_count": 22,
   "id": "8de65a94",
   "metadata": {},
   "outputs": [
    {
     "name": "stdout",
     "output_type": "stream",
     "text": [
      "--- Cross Validation ---\n"
     ]
    }
   ],
   "source": [
    "print(\"--- Cross Validation ---\")\n",
    "cv = StratifiedKFold(n_splits=5, shuffle=True, random_state=42)\n"
   ]
  },
  {
   "cell_type": "markdown",
   "id": "70b6ab43",
   "metadata": {},
   "source": [
    "\n",
    "## Initialize metrics storage"
   ]
  },
  {
   "cell_type": "code",
   "execution_count": 23,
   "id": "d306ae1e",
   "metadata": {},
   "outputs": [
    {
     "name": "stdout",
     "output_type": "stream",
     "text": [
      "Processing fold 1/5...\n",
      "  Training XGBoost on fold 1...\n",
      "  Training completed. Best iteration: 141\n",
      "Processing fold 2/5...\n",
      "  Training XGBoost on fold 2...\n",
      "  Training completed. Best iteration: 132\n",
      "Processing fold 3/5...\n",
      "  Training XGBoost on fold 3...\n",
      "  Training completed. Best iteration: 299\n",
      "Processing fold 4/5...\n",
      "  Training XGBoost on fold 4...\n",
      "  Training completed. Best iteration: 161\n",
      "Processing fold 5/5...\n",
      "  Training XGBoost on fold 5...\n",
      "  Training completed. Best iteration: 135\n"
     ]
    }
   ],
   "source": [
    "accuracy_scores = []\n",
    "precision_scores = []\n",
    "recall_scores = []\n",
    "f1_scores = []\n",
    "true_negative_rates = []\n",
    "false_alarm_rates = []\n",
    "\n",
    "fold = 1\n",
    "for train, test in cv.split(X_train, y_train):\n",
    "    print(f\"Processing fold {fold}/5...\")\n",
    "    \n",
    "    # Split data for current fold\n",
    "    X_train_fold, X_validation = X_train[train], X_train[test]\n",
    "    y_train_fold, y_validation = y_train[train], y_train[test]\n",
    "    \n",
    "    # Train XGBoost classifier\n",
    "    print(f\"  Training XGBoost on fold {fold}...\")\n",
    "    eval_set = [(X_validation, y_validation)]\n",
    "    \n",
    "    classifier.fit(\n",
    "        X_train_fold, \n",
    "        y_train_fold,\n",
    "        eval_set=eval_set,\n",
    "        verbose=False\n",
    "    )\n",
    "    \n",
    "    print(f\"  Training completed. Best iteration: {classifier.best_iteration}\")\n",
    "    \n",
    "    # Make predictions\n",
    "    y_pred = classifier.predict(X_validation)\n",
    "    \n",
    "    # Calculate metrics\n",
    "    accuracy_scores.append(accuracy_score(y_validation, y_pred))\n",
    "    precision_scores.append(np.mean(precision_score(y_validation, y_pred, average=None, zero_division=0)))\n",
    "    recall_scores.append(np.mean(recall_score(y_validation, y_pred, average=None, zero_division=0)))\n",
    "    f1_scores.append(np.mean(f1_score(y_validation, y_pred, average=None, zero_division=0)))\n",
    "    \n",
    "    # Calculate confusion matrix metrics\n",
    "    cm = multilabel_confusion_matrix(y_validation, y_pred)\n",
    "    \n",
    "    TNR = []\n",
    "    FAR = []\n",
    "    \n",
    "    for i in range(len(class_names)):\n",
    "        if i < len(cm):\n",
    "            tn = cm[i][0][0]\n",
    "            fn = cm[i][1][0]\n",
    "            tp = cm[i][1][1]\n",
    "            fp = cm[i][0][1]\n",
    "            \n",
    "            # Avoid division by zero\n",
    "            if (fp + tn) > 0:\n",
    "                TNR.append(tn / (fp + tn))\n",
    "            else:\n",
    "                TNR.append(0)\n",
    "                \n",
    "            if (fp + fn + tp + tn) > 0:\n",
    "                FAR.append((fp + fn) / (fp + fn + tp + tn))\n",
    "            else:\n",
    "                FAR.append(0)\n",
    "\n",
    "    true_negative_rates.append(np.mean(TNR))\n",
    "    false_alarm_rates.append(np.mean(FAR))\n",
    "    \n",
    "    fold += 1\n",
    "\n"
   ]
  },
  {
   "cell_type": "markdown",
   "id": "1fed9b1e",
   "metadata": {},
   "source": [
    "## Display cross-validation results\n"
   ]
  },
  {
   "cell_type": "code",
   "execution_count": 24,
   "id": "e03ee873",
   "metadata": {},
   "outputs": [
    {
     "name": "stdout",
     "output_type": "stream",
     "text": [
      "\n",
      "================== XGBoost Cross-Validation Results =====================\n",
      "Accuracy: 0.9889 ± 0.0049\n",
      "Precision: 0.9768 ± 0.0209\n",
      "Recall: 0.9658 ± 0.0341\n",
      "F1-Score: 0.9697 ± 0.0252\n",
      "Specificity (TNR): 0.9971 ± 0.0013\n",
      "False Alarm Rate: 0.0044 ± 0.0020\n"
     ]
    }
   ],
   "source": [
    "\n",
    "\n",
    "print('\\n================== XGBoost Cross-Validation Results =====================')\n",
    "metrics_summary = {\n",
    "    'Accuracy': (np.mean(accuracy_scores), np.std(accuracy_scores)),\n",
    "    'Precision': (np.mean(precision_scores), np.std(precision_scores)),\n",
    "    'Recall': (np.mean(recall_scores), np.std(recall_scores)),\n",
    "    'F1-Score': (np.mean(f1_scores), np.std(f1_scores)),\n",
    "    'Specificity (TNR)': (np.mean(true_negative_rates), np.std(true_negative_rates)),\n",
    "    'False Alarm Rate': (np.mean(false_alarm_rates), np.std(false_alarm_rates))\n",
    "}\n",
    "\n",
    "for metric, (mean_val, std_val) in metrics_summary.items():\n",
    "    print(f'{metric}: {mean_val:.4f} ± {std_val:.4f}')\n"
   ]
  },
  {
   "cell_type": "markdown",
   "id": "ad62b50e",
   "metadata": {},
   "source": [
    "\n",
    "# 11. Final Model Training with Class Weights\n"
   ]
  },
  {
   "cell_type": "markdown",
   "id": "e64507dd",
   "metadata": {},
   "source": [
    "This weighting scheme ensures minority classes receive appropriate attention during training."
   ]
  },
  {
   "cell_type": "markdown",
   "id": "de0f9130",
   "metadata": {},
   "source": [
    "\n",
    "## Train final model on full training set\n"
   ]
  },
  {
   "cell_type": "code",
   "execution_count": 25,
   "id": "a1b621c6",
   "metadata": {},
   "outputs": [
    {
     "name": "stdout",
     "output_type": "stream",
     "text": [
      "--- Final XGBoost Model Training ---\n",
      "Training XGBoost on full training set...\n"
     ]
    }
   ],
   "source": [
    "\n",
    "print(\"--- Final XGBoost Model Training ---\")\n",
    "print(\"Training XGBoost on full training set...\")\n",
    "\n"
   ]
  },
  {
   "cell_type": "markdown",
   "id": "068bb620",
   "metadata": {},
   "source": [
    "## Calculate class weights for imbalanced data\n"
   ]
  },
  {
   "cell_type": "code",
   "execution_count": 26,
   "id": "33620508",
   "metadata": {},
   "outputs": [
    {
     "name": "stdout",
     "output_type": "stream",
     "text": [
      "Class weights:\n",
      "DoS: 0.8094\n",
      "Probe: 0.8094\n",
      "R2L: 0.8135\n",
      "U2R: 15.5654\n",
      "normal: 0.8094\n"
     ]
    }
   ],
   "source": [
    "\n",
    "class_weights = {}\n",
    "unique_classes, class_counts = np.unique(y_train, return_counts=True)\n",
    "total_samples = len(y_train)\n",
    "n_classes = len(unique_classes)\n",
    "\n",
    "for cls, count in zip(unique_classes, class_counts):\n",
    "    class_weights[cls] = total_samples / (n_classes * count)\n",
    "\n",
    "print(\"Class weights:\")\n",
    "for cls in unique_classes:\n",
    "    print(f\"{class_names[cls]}: {class_weights[cls]:.4f}\")\n"
   ]
  },
  {
   "cell_type": "markdown",
   "id": "e04e41d1",
   "metadata": {},
   "source": [
    "## Apply sample weights"
   ]
  },
  {
   "cell_type": "code",
   "execution_count": 27,
   "id": "c2656964",
   "metadata": {},
   "outputs": [],
   "source": [
    "\n",
    "sample_weights = np.array([class_weights[cls] for cls in y_train])\n"
   ]
  },
  {
   "cell_type": "markdown",
   "id": "52e7a689",
   "metadata": {},
   "source": [
    "## Create evaluation set for final training"
   ]
  },
  {
   "cell_type": "code",
   "execution_count": 28,
   "id": "666dee81",
   "metadata": {},
   "outputs": [],
   "source": [
    "\n",
    "\n",
    "X_train_final, X_eval, y_train_final, y_eval = train_test_split(\n",
    "    X_train, y_train, test_size=0.2, random_state=42, stratify=y_train\n",
    ")\n",
    "\n",
    "eval_set_final = [(X_eval, y_eval)]\n",
    "\n"
   ]
  },
  {
   "cell_type": "markdown",
   "id": "0a1dec45",
   "metadata": {},
   "source": [
    "## Train final model\n"
   ]
  },
  {
   "cell_type": "code",
   "execution_count": 29,
   "id": "e324c313",
   "metadata": {},
   "outputs": [
    {
     "name": "stdout",
     "output_type": "stream",
     "text": [
      "[0]\tvalidation_0-mlogloss:1.39339\n",
      "[1]\tvalidation_0-mlogloss:1.22208\n",
      "[2]\tvalidation_0-mlogloss:1.08063\n",
      "[3]\tvalidation_0-mlogloss:0.96185\n",
      "[4]\tvalidation_0-mlogloss:0.86493\n",
      "[5]\tvalidation_0-mlogloss:0.78101\n",
      "[6]\tvalidation_0-mlogloss:0.70911\n",
      "[7]\tvalidation_0-mlogloss:0.64364\n",
      "[8]\tvalidation_0-mlogloss:0.58620\n",
      "[9]\tvalidation_0-mlogloss:0.53572\n",
      "[10]\tvalidation_0-mlogloss:0.49003\n",
      "[11]\tvalidation_0-mlogloss:0.44919\n",
      "[12]\tvalidation_0-mlogloss:0.41334\n",
      "[13]\tvalidation_0-mlogloss:0.38027\n",
      "[14]\tvalidation_0-mlogloss:0.35089\n",
      "[15]\tvalidation_0-mlogloss:0.32295\n",
      "[16]\tvalidation_0-mlogloss:0.29826\n",
      "[17]\tvalidation_0-mlogloss:0.27609\n",
      "[18]\tvalidation_0-mlogloss:0.25565\n",
      "[19]\tvalidation_0-mlogloss:0.23820\n",
      "[20]\tvalidation_0-mlogloss:0.22183\n",
      "[21]\tvalidation_0-mlogloss:0.20647\n",
      "[22]\tvalidation_0-mlogloss:0.19211\n",
      "[23]\tvalidation_0-mlogloss:0.18019\n",
      "[24]\tvalidation_0-mlogloss:0.16856\n",
      "[25]\tvalidation_0-mlogloss:0.15807\n",
      "[26]\tvalidation_0-mlogloss:0.14848\n",
      "[27]\tvalidation_0-mlogloss:0.13965\n",
      "[28]\tvalidation_0-mlogloss:0.13138\n",
      "[29]\tvalidation_0-mlogloss:0.12467\n",
      "[30]\tvalidation_0-mlogloss:0.11758\n",
      "[31]\tvalidation_0-mlogloss:0.11213\n",
      "[32]\tvalidation_0-mlogloss:0.10708\n",
      "[33]\tvalidation_0-mlogloss:0.10198\n",
      "[34]\tvalidation_0-mlogloss:0.09682\n",
      "[35]\tvalidation_0-mlogloss:0.09232\n",
      "[36]\tvalidation_0-mlogloss:0.08876\n",
      "[37]\tvalidation_0-mlogloss:0.08489\n",
      "[38]\tvalidation_0-mlogloss:0.08159\n",
      "[39]\tvalidation_0-mlogloss:0.07821\n",
      "[40]\tvalidation_0-mlogloss:0.07529\n",
      "[41]\tvalidation_0-mlogloss:0.07286\n",
      "[42]\tvalidation_0-mlogloss:0.06995\n",
      "[43]\tvalidation_0-mlogloss:0.06751\n",
      "[44]\tvalidation_0-mlogloss:0.06530\n",
      "[45]\tvalidation_0-mlogloss:0.06321\n",
      "[46]\tvalidation_0-mlogloss:0.06159\n",
      "[47]\tvalidation_0-mlogloss:0.05967\n",
      "[48]\tvalidation_0-mlogloss:0.05844\n",
      "[49]\tvalidation_0-mlogloss:0.05678\n",
      "[50]\tvalidation_0-mlogloss:0.05510\n",
      "[51]\tvalidation_0-mlogloss:0.05360\n",
      "[52]\tvalidation_0-mlogloss:0.05249\n",
      "[53]\tvalidation_0-mlogloss:0.05160\n",
      "[54]\tvalidation_0-mlogloss:0.05027\n",
      "[55]\tvalidation_0-mlogloss:0.04923\n",
      "[56]\tvalidation_0-mlogloss:0.04848\n",
      "[57]\tvalidation_0-mlogloss:0.04769\n",
      "[58]\tvalidation_0-mlogloss:0.04707\n",
      "[59]\tvalidation_0-mlogloss:0.04606\n",
      "[60]\tvalidation_0-mlogloss:0.04522\n",
      "[61]\tvalidation_0-mlogloss:0.04454\n",
      "[62]\tvalidation_0-mlogloss:0.04392\n",
      "[63]\tvalidation_0-mlogloss:0.04335\n",
      "[64]\tvalidation_0-mlogloss:0.04269\n",
      "[65]\tvalidation_0-mlogloss:0.04225\n",
      "[66]\tvalidation_0-mlogloss:0.04174\n",
      "[67]\tvalidation_0-mlogloss:0.04106\n",
      "[68]\tvalidation_0-mlogloss:0.04069\n",
      "[69]\tvalidation_0-mlogloss:0.04043\n",
      "[70]\tvalidation_0-mlogloss:0.03972\n",
      "[71]\tvalidation_0-mlogloss:0.03959\n",
      "[72]\tvalidation_0-mlogloss:0.03945\n",
      "[73]\tvalidation_0-mlogloss:0.03927\n",
      "[74]\tvalidation_0-mlogloss:0.03922\n",
      "[75]\tvalidation_0-mlogloss:0.03883\n",
      "[76]\tvalidation_0-mlogloss:0.03867\n",
      "[77]\tvalidation_0-mlogloss:0.03824\n",
      "[78]\tvalidation_0-mlogloss:0.03764\n",
      "[79]\tvalidation_0-mlogloss:0.03728\n",
      "[80]\tvalidation_0-mlogloss:0.03702\n",
      "[81]\tvalidation_0-mlogloss:0.03691\n",
      "[82]\tvalidation_0-mlogloss:0.03671\n",
      "[83]\tvalidation_0-mlogloss:0.03658\n",
      "[84]\tvalidation_0-mlogloss:0.03605\n",
      "[85]\tvalidation_0-mlogloss:0.03602\n",
      "[86]\tvalidation_0-mlogloss:0.03600\n",
      "[87]\tvalidation_0-mlogloss:0.03588\n",
      "[88]\tvalidation_0-mlogloss:0.03537\n",
      "[89]\tvalidation_0-mlogloss:0.03518\n",
      "[90]\tvalidation_0-mlogloss:0.03505\n",
      "[91]\tvalidation_0-mlogloss:0.03479\n",
      "[92]\tvalidation_0-mlogloss:0.03458\n",
      "[93]\tvalidation_0-mlogloss:0.03428\n",
      "[94]\tvalidation_0-mlogloss:0.03419\n",
      "[95]\tvalidation_0-mlogloss:0.03403\n",
      "[96]\tvalidation_0-mlogloss:0.03401\n",
      "[97]\tvalidation_0-mlogloss:0.03405\n",
      "[98]\tvalidation_0-mlogloss:0.03392\n",
      "[99]\tvalidation_0-mlogloss:0.03366\n",
      "[100]\tvalidation_0-mlogloss:0.03359\n",
      "[101]\tvalidation_0-mlogloss:0.03365\n",
      "[102]\tvalidation_0-mlogloss:0.03335\n",
      "[103]\tvalidation_0-mlogloss:0.03315\n",
      "[104]\tvalidation_0-mlogloss:0.03287\n",
      "[105]\tvalidation_0-mlogloss:0.03277\n",
      "[106]\tvalidation_0-mlogloss:0.03270\n",
      "[107]\tvalidation_0-mlogloss:0.03260\n",
      "[108]\tvalidation_0-mlogloss:0.03258\n",
      "[109]\tvalidation_0-mlogloss:0.03259\n",
      "[110]\tvalidation_0-mlogloss:0.03234\n",
      "[111]\tvalidation_0-mlogloss:0.03235\n",
      "[112]\tvalidation_0-mlogloss:0.03226\n",
      "[113]\tvalidation_0-mlogloss:0.03231\n",
      "[114]\tvalidation_0-mlogloss:0.03239\n",
      "[115]\tvalidation_0-mlogloss:0.03228\n",
      "[116]\tvalidation_0-mlogloss:0.03212\n",
      "[117]\tvalidation_0-mlogloss:0.03211\n",
      "[118]\tvalidation_0-mlogloss:0.03209\n",
      "[119]\tvalidation_0-mlogloss:0.03202\n",
      "[120]\tvalidation_0-mlogloss:0.03201\n",
      "[121]\tvalidation_0-mlogloss:0.03207\n",
      "[122]\tvalidation_0-mlogloss:0.03196\n",
      "[123]\tvalidation_0-mlogloss:0.03197\n",
      "[124]\tvalidation_0-mlogloss:0.03212\n",
      "[125]\tvalidation_0-mlogloss:0.03208\n",
      "[126]\tvalidation_0-mlogloss:0.03204\n",
      "[127]\tvalidation_0-mlogloss:0.03206\n",
      "[128]\tvalidation_0-mlogloss:0.03207\n",
      "[129]\tvalidation_0-mlogloss:0.03195\n",
      "[130]\tvalidation_0-mlogloss:0.03195\n",
      "[131]\tvalidation_0-mlogloss:0.03199\n",
      "[132]\tvalidation_0-mlogloss:0.03204\n",
      "[133]\tvalidation_0-mlogloss:0.03200\n",
      "[134]\tvalidation_0-mlogloss:0.03189\n",
      "[135]\tvalidation_0-mlogloss:0.03189\n",
      "[136]\tvalidation_0-mlogloss:0.03195\n",
      "[137]\tvalidation_0-mlogloss:0.03195\n",
      "[138]\tvalidation_0-mlogloss:0.03195\n",
      "[139]\tvalidation_0-mlogloss:0.03190\n",
      "[140]\tvalidation_0-mlogloss:0.03189\n",
      "[141]\tvalidation_0-mlogloss:0.03189\n",
      "[142]\tvalidation_0-mlogloss:0.03188\n",
      "[143]\tvalidation_0-mlogloss:0.03183\n",
      "[144]\tvalidation_0-mlogloss:0.03184\n",
      "[145]\tvalidation_0-mlogloss:0.03185\n",
      "[146]\tvalidation_0-mlogloss:0.03185\n",
      "[147]\tvalidation_0-mlogloss:0.03183\n",
      "[148]\tvalidation_0-mlogloss:0.03184\n",
      "[149]\tvalidation_0-mlogloss:0.03175\n",
      "[150]\tvalidation_0-mlogloss:0.03172\n",
      "[151]\tvalidation_0-mlogloss:0.03173\n",
      "[152]\tvalidation_0-mlogloss:0.03176\n",
      "[153]\tvalidation_0-mlogloss:0.03177\n",
      "[154]\tvalidation_0-mlogloss:0.03174\n",
      "[155]\tvalidation_0-mlogloss:0.03172\n",
      "[156]\tvalidation_0-mlogloss:0.03172\n",
      "[157]\tvalidation_0-mlogloss:0.03172\n",
      "[158]\tvalidation_0-mlogloss:0.03166\n",
      "[159]\tvalidation_0-mlogloss:0.03170\n",
      "[160]\tvalidation_0-mlogloss:0.03172\n",
      "[161]\tvalidation_0-mlogloss:0.03176\n",
      "[162]\tvalidation_0-mlogloss:0.03176\n",
      "[163]\tvalidation_0-mlogloss:0.03182\n",
      "[164]\tvalidation_0-mlogloss:0.03181\n",
      "[165]\tvalidation_0-mlogloss:0.03177\n",
      "[166]\tvalidation_0-mlogloss:0.03178\n",
      "[167]\tvalidation_0-mlogloss:0.03175\n",
      "[168]\tvalidation_0-mlogloss:0.03181\n",
      "[169]\tvalidation_0-mlogloss:0.03174\n",
      "[170]\tvalidation_0-mlogloss:0.03179\n",
      "[171]\tvalidation_0-mlogloss:0.03178\n",
      "[172]\tvalidation_0-mlogloss:0.03178\n",
      "[173]\tvalidation_0-mlogloss:0.03183\n",
      "[174]\tvalidation_0-mlogloss:0.03183\n",
      "[175]\tvalidation_0-mlogloss:0.03177\n",
      "[176]\tvalidation_0-mlogloss:0.03176\n",
      "[177]\tvalidation_0-mlogloss:0.03176\n",
      "[178]\tvalidation_0-mlogloss:0.03175\n",
      "[179]\tvalidation_0-mlogloss:0.03176\n",
      "[180]\tvalidation_0-mlogloss:0.03175\n",
      "[181]\tvalidation_0-mlogloss:0.03176\n",
      "[182]\tvalidation_0-mlogloss:0.03177\n",
      "[183]\tvalidation_0-mlogloss:0.03176\n",
      "[184]\tvalidation_0-mlogloss:0.03173\n",
      "[185]\tvalidation_0-mlogloss:0.03173\n",
      "[186]\tvalidation_0-mlogloss:0.03167\n",
      "[187]\tvalidation_0-mlogloss:0.03168\n",
      "[188]\tvalidation_0-mlogloss:0.03166\n",
      "[189]\tvalidation_0-mlogloss:0.03166\n",
      "[190]\tvalidation_0-mlogloss:0.03157\n",
      "[191]\tvalidation_0-mlogloss:0.03160\n",
      "[192]\tvalidation_0-mlogloss:0.03160\n",
      "[193]\tvalidation_0-mlogloss:0.03160\n",
      "[194]\tvalidation_0-mlogloss:0.03152\n",
      "[195]\tvalidation_0-mlogloss:0.03152\n",
      "[196]\tvalidation_0-mlogloss:0.03152\n",
      "[197]\tvalidation_0-mlogloss:0.03152\n",
      "[198]\tvalidation_0-mlogloss:0.03153\n",
      "[199]\tvalidation_0-mlogloss:0.03152\n",
      "[200]\tvalidation_0-mlogloss:0.03159\n",
      "[201]\tvalidation_0-mlogloss:0.03155\n",
      "[202]\tvalidation_0-mlogloss:0.03156\n",
      "[203]\tvalidation_0-mlogloss:0.03156\n",
      "[204]\tvalidation_0-mlogloss:0.03156\n",
      "[205]\tvalidation_0-mlogloss:0.03156\n",
      "[206]\tvalidation_0-mlogloss:0.03167\n",
      "[207]\tvalidation_0-mlogloss:0.03167\n",
      "[208]\tvalidation_0-mlogloss:0.03166\n",
      "[209]\tvalidation_0-mlogloss:0.03163\n",
      "[210]\tvalidation_0-mlogloss:0.03164\n",
      "[211]\tvalidation_0-mlogloss:0.03164\n",
      "[212]\tvalidation_0-mlogloss:0.03164\n",
      "[213]\tvalidation_0-mlogloss:0.03161\n",
      "[214]\tvalidation_0-mlogloss:0.03161\n",
      "[215]\tvalidation_0-mlogloss:0.03161\n",
      "[216]\tvalidation_0-mlogloss:0.03161\n",
      "[217]\tvalidation_0-mlogloss:0.03157\n",
      "[218]\tvalidation_0-mlogloss:0.03156\n",
      "[219]\tvalidation_0-mlogloss:0.03155\n",
      "[220]\tvalidation_0-mlogloss:0.03143\n",
      "[221]\tvalidation_0-mlogloss:0.03140\n",
      "[222]\tvalidation_0-mlogloss:0.03141\n",
      "[223]\tvalidation_0-mlogloss:0.03143\n",
      "[224]\tvalidation_0-mlogloss:0.03141\n",
      "[225]\tvalidation_0-mlogloss:0.03139\n",
      "[226]\tvalidation_0-mlogloss:0.03143\n",
      "[227]\tvalidation_0-mlogloss:0.03140\n",
      "[228]\tvalidation_0-mlogloss:0.03138\n",
      "[229]\tvalidation_0-mlogloss:0.03139\n",
      "[230]\tvalidation_0-mlogloss:0.03139\n",
      "[231]\tvalidation_0-mlogloss:0.03138\n",
      "[232]\tvalidation_0-mlogloss:0.03138\n",
      "[233]\tvalidation_0-mlogloss:0.03140\n",
      "[234]\tvalidation_0-mlogloss:0.03140\n",
      "[235]\tvalidation_0-mlogloss:0.03139\n",
      "[236]\tvalidation_0-mlogloss:0.03139\n",
      "[237]\tvalidation_0-mlogloss:0.03138\n",
      "[238]\tvalidation_0-mlogloss:0.03135\n",
      "[239]\tvalidation_0-mlogloss:0.03141\n",
      "[240]\tvalidation_0-mlogloss:0.03143\n",
      "[241]\tvalidation_0-mlogloss:0.03146\n",
      "[242]\tvalidation_0-mlogloss:0.03146\n",
      "[243]\tvalidation_0-mlogloss:0.03142\n",
      "[244]\tvalidation_0-mlogloss:0.03143\n",
      "[245]\tvalidation_0-mlogloss:0.03143\n",
      "[246]\tvalidation_0-mlogloss:0.03139\n",
      "[247]\tvalidation_0-mlogloss:0.03140\n",
      "[248]\tvalidation_0-mlogloss:0.03140\n",
      "[249]\tvalidation_0-mlogloss:0.03132\n",
      "[250]\tvalidation_0-mlogloss:0.03126\n",
      "[251]\tvalidation_0-mlogloss:0.03129\n",
      "[252]\tvalidation_0-mlogloss:0.03126\n",
      "[253]\tvalidation_0-mlogloss:0.03124\n",
      "[254]\tvalidation_0-mlogloss:0.03125\n",
      "[255]\tvalidation_0-mlogloss:0.03125\n",
      "[256]\tvalidation_0-mlogloss:0.03128\n",
      "[257]\tvalidation_0-mlogloss:0.03129\n",
      "[258]\tvalidation_0-mlogloss:0.03131\n",
      "[259]\tvalidation_0-mlogloss:0.03130\n",
      "[260]\tvalidation_0-mlogloss:0.03132\n",
      "[261]\tvalidation_0-mlogloss:0.03130\n",
      "[262]\tvalidation_0-mlogloss:0.03135\n",
      "[263]\tvalidation_0-mlogloss:0.03134\n",
      "[264]\tvalidation_0-mlogloss:0.03128\n",
      "[265]\tvalidation_0-mlogloss:0.03129\n",
      "[266]\tvalidation_0-mlogloss:0.03127\n",
      "[267]\tvalidation_0-mlogloss:0.03128\n",
      "[268]\tvalidation_0-mlogloss:0.03127\n",
      "[269]\tvalidation_0-mlogloss:0.03129\n",
      "[270]\tvalidation_0-mlogloss:0.03129\n",
      "[271]\tvalidation_0-mlogloss:0.03127\n",
      "[272]\tvalidation_0-mlogloss:0.03127\n",
      "[273]\tvalidation_0-mlogloss:0.03126\n",
      "[274]\tvalidation_0-mlogloss:0.03127\n",
      "[275]\tvalidation_0-mlogloss:0.03126\n",
      "[276]\tvalidation_0-mlogloss:0.03126\n",
      "[277]\tvalidation_0-mlogloss:0.03127\n",
      "[278]\tvalidation_0-mlogloss:0.03126\n",
      "[279]\tvalidation_0-mlogloss:0.03128\n",
      "[280]\tvalidation_0-mlogloss:0.03127\n",
      "[281]\tvalidation_0-mlogloss:0.03122\n",
      "[282]\tvalidation_0-mlogloss:0.03128\n",
      "[283]\tvalidation_0-mlogloss:0.03127\n",
      "[284]\tvalidation_0-mlogloss:0.03127\n",
      "[285]\tvalidation_0-mlogloss:0.03128\n",
      "[286]\tvalidation_0-mlogloss:0.03127\n",
      "[287]\tvalidation_0-mlogloss:0.03120\n",
      "[288]\tvalidation_0-mlogloss:0.03119\n",
      "[289]\tvalidation_0-mlogloss:0.03120\n",
      "[290]\tvalidation_0-mlogloss:0.03119\n",
      "[291]\tvalidation_0-mlogloss:0.03119\n",
      "[292]\tvalidation_0-mlogloss:0.03120\n",
      "[293]\tvalidation_0-mlogloss:0.03118\n",
      "[294]\tvalidation_0-mlogloss:0.03118\n",
      "[295]\tvalidation_0-mlogloss:0.03118\n",
      "[296]\tvalidation_0-mlogloss:0.03122\n",
      "[297]\tvalidation_0-mlogloss:0.03120\n",
      "[298]\tvalidation_0-mlogloss:0.03120\n",
      "[299]\tvalidation_0-mlogloss:0.03118\n",
      "Training completed. Best iteration: 295\n",
      "Best score: 0.031176\n"
     ]
    }
   ],
   "source": [
    "\n",
    "classifier.fit(\n",
    "    X_train_final, \n",
    "    y_train_final,\n",
    "    sample_weight=sample_weights[:len(y_train_final)],\n",
    "    eval_set=eval_set_final,\n",
    "    verbose=True\n",
    ")\n",
    "\n",
    "print(f\"Training completed. Best iteration: {classifier.best_iteration}\")\n",
    "print(f\"Best score: {classifier.best_score:.6f}\")\n"
   ]
  },
  {
   "cell_type": "markdown",
   "id": "4dfa2661",
   "metadata": {},
   "source": [
    "# 12. Test Set Evaluation\n"
   ]
  },
  {
   "cell_type": "markdown",
   "id": "7556cfbe",
   "metadata": {},
   "source": [
    "## Make predictions on test set\n"
   ]
  },
  {
   "cell_type": "code",
   "execution_count": 30,
   "id": "10938113",
   "metadata": {},
   "outputs": [],
   "source": [
    "\n",
    "y_pred = classifier.predict(X_test)"
   ]
  },
  {
   "cell_type": "markdown",
   "id": "3263ef1d",
   "metadata": {},
   "source": [
    "## Calculate confusion matrix"
   ]
  },
  {
   "cell_type": "code",
   "execution_count": 31,
   "id": "e957ee24",
   "metadata": {},
   "outputs": [],
   "source": [
    "\n",
    "\n",
    "cm = multilabel_confusion_matrix(y_test, y_pred)\n"
   ]
  },
  {
   "cell_type": "markdown",
   "id": "8c17b132",
   "metadata": {},
   "source": [
    "\n",
    "## Calculate performance metrics"
   ]
  },
  {
   "cell_type": "code",
   "execution_count": 32,
   "id": "60239c57",
   "metadata": {},
   "outputs": [],
   "source": [
    "\n",
    "TNR = []\n",
    "FPR = []\n",
    "FNR = []\n",
    "FAR = []\n",
    "\n",
    "for i in range(len(class_names)):    \n",
    "    if i < len(cm):\n",
    "        tn = cm[i][0][0]\n",
    "        fn = cm[i][1][0]\n",
    "        tp = cm[i][1][1]\n",
    "        fp = cm[i][0][1]\n",
    "        \n",
    "        # Avoid division by zero\n",
    "        if (fp + tn) > 0:\n",
    "            TNR.append(tn / (fp + tn))\n",
    "            FPR.append(fp / (fp + tn))\n",
    "        else:\n",
    "            TNR.append(0)\n",
    "            FPR.append(0)\n",
    "            \n",
    "        if (fn + tp) > 0:\n",
    "            FNR.append(fn / (fn + tp))\n",
    "        else:\n",
    "            FNR.append(0)\n",
    "            \n",
    "        if (fp + fn + tp + tn) > 0:\n",
    "            FAR.append((fp + fn) / (fp + fn + tp + tn))\n",
    "        else:\n",
    "            FAR.append(0)\n"
   ]
  },
  {
   "cell_type": "markdown",
   "id": "d6c756c5",
   "metadata": {},
   "source": [
    "## Display test results"
   ]
  },
  {
   "cell_type": "code",
   "execution_count": 33,
   "id": "d2605d42",
   "metadata": {},
   "outputs": [
    {
     "name": "stdout",
     "output_type": "stream",
     "text": [
      "\n",
      "================ XGBoost Test Set Results ================\n",
      "Accuracy Score: 0.8210\n",
      "Precision Score: 0.8153\n",
      "Recall Score: 0.6137\n",
      "F1 Score: 0.6335\n",
      "Specificity (TNR): 0.9419\n",
      "False Positive Rate: 0.0581\n",
      "False Negative Rate: 0.3863\n",
      "False Alarm Rate: 0.0716\n"
     ]
    }
   ],
   "source": [
    "\n",
    "\n",
    "print('\\n================ XGBoost Test Set Results ================')\n",
    "test_metrics = {\n",
    "    'Accuracy Score': accuracy_score(y_test, y_pred),\n",
    "    'Precision Score': np.mean(precision_score(y_test, y_pred, average=None, zero_division=0)),\n",
    "    'Recall Score': np.mean(recall_score(y_test, y_pred, average=None, zero_division=0)),\n",
    "    'F1 Score': np.mean(f1_score(y_test, y_pred, average=None, zero_division=0)),\n",
    "    'Specificity (TNR)': np.mean(TNR),\n",
    "    'False Positive Rate': np.mean(FPR),\n",
    "    'False Negative Rate': np.mean(FNR),\n",
    "    'False Alarm Rate': np.mean(FAR)\n",
    "}\n",
    "\n",
    "for metric, value in test_metrics.items():\n",
    "    print(f'{metric}: {value:.4f}')\n"
   ]
  },
  {
   "cell_type": "markdown",
   "id": "c6da75f5",
   "metadata": {},
   "source": [
    "# 13. Detailed Classification Analysis\n"
   ]
  },
  {
   "cell_type": "markdown",
   "id": "74b8e4ce",
   "metadata": {},
   "source": [
    "## Detailed classification report"
   ]
  },
  {
   "cell_type": "code",
   "execution_count": 34,
   "id": "a3e9f61b",
   "metadata": {},
   "outputs": [
    {
     "name": "stdout",
     "output_type": "stream",
     "text": [
      "\n",
      "================ Detailed Classification Report ================\n",
      "              precision    recall  f1-score   support\n",
      "\n",
      "         DoS       0.96      0.83      0.89      7456\n",
      "       Probe       0.77      0.90      0.83      2421\n",
      "         R2L       0.89      0.27      0.42      2756\n",
      "         U2R       0.70      0.10      0.18       200\n",
      "      normal       0.75      0.97      0.85      9711\n",
      "\n",
      "    accuracy                           0.82     22544\n",
      "   macro avg       0.82      0.61      0.63     22544\n",
      "weighted avg       0.84      0.82      0.80     22544\n",
      "\n"
     ]
    }
   ],
   "source": [
    "\n",
    "\n",
    "print('\\n================ Detailed Classification Report ================')\n",
    "print(classification_report(y_test, y_pred, target_names=class_names))"
   ]
  },
  {
   "cell_type": "markdown",
   "id": "c485d1c8",
   "metadata": {},
   "source": [
    "\n",
    "\n",
    "## Per-class metrics"
   ]
  },
  {
   "cell_type": "code",
   "execution_count": 35,
   "id": "47f89fa3",
   "metadata": {},
   "outputs": [
    {
     "name": "stdout",
     "output_type": "stream",
     "text": [
      "\n",
      "================ Per-Class Metrics ================\n",
      "    Class  Precision    Recall  F1-Score  Specificity\n",
      "0     DoS   0.960918  0.831009  0.891254     0.983298\n",
      "1   Probe   0.774205  0.895085  0.830268     0.968593\n",
      "2     R2L   0.886391  0.271771  0.415996     0.995149\n",
      "3     U2R   0.700000  0.105000  0.182609     0.999597\n",
      "4  normal   0.754790  0.965503  0.847242     0.762643\n"
     ]
    }
   ],
   "source": [
    "\n",
    "\n",
    "print('\\n================ Per-Class Metrics ================')\n",
    "precision_per_class = precision_score(y_test, y_pred, average=None, zero_division=0)\n",
    "recall_per_class = recall_score(y_test, y_pred, average=None, zero_division=0)\n",
    "f1_per_class = f1_score(y_test, y_pred, average=None, zero_division=0)\n",
    "\n",
    "per_class_df = pd.DataFrame({\n",
    "    'Class': class_names,\n",
    "    'Precision': precision_per_class[:len(class_names)],\n",
    "    'Recall': recall_per_class[:len(class_names)],\n",
    "    'F1-Score': f1_per_class[:len(class_names)],\n",
    "    'Specificity': TNR[:len(class_names)]\n",
    "})\n",
    "\n",
    "print(per_class_df)\n"
   ]
  },
  {
   "cell_type": "markdown",
   "id": "6d2fa234",
   "metadata": {},
   "source": [
    "\n",
    "# 14. Model Information and Feature Importance\n"
   ]
  },
  {
   "cell_type": "markdown",
   "id": "07de886d",
   "metadata": {},
   "source": [
    "## XGBoost model information\n"
   ]
  },
  {
   "cell_type": "code",
   "execution_count": 36,
   "id": "b5599608",
   "metadata": {},
   "outputs": [
    {
     "name": "stdout",
     "output_type": "stream",
     "text": [
      "\n",
      "================ XGBoost Model Information ================\n",
      "Number of boosting rounds: 300\n",
      "Best iteration: 295\n",
      "Objective: multi:softprob\n",
      "Number of features: 116\n"
     ]
    }
   ],
   "source": [
    "\n",
    "print('\\n================ XGBoost Model Information ================')\n",
    "model_info = {\n",
    "    'Number of boosting rounds': classifier.n_estimators,\n",
    "    'Best iteration': classifier.best_iteration,\n",
    "    'Objective': classifier.objective,\n",
    "    'Number of features': classifier.n_features_in_\n",
    "}\n",
    "\n",
    "for key, value in model_info.items():\n",
    "    print(f\"{key}: {value}\")\n"
   ]
  },
  {
   "cell_type": "markdown",
   "id": "485779ed",
   "metadata": {},
   "source": [
    "## Feature importance analysis"
   ]
  },
  {
   "cell_type": "code",
   "execution_count": 37,
   "id": "36564803",
   "metadata": {},
   "outputs": [
    {
     "name": "stdout",
     "output_type": "stream",
     "text": [
      "\n",
      "================ Feature Importance Analysis ================\n",
      "Top 20 most important features:\n",
      " 1. Feature  26: 0.082640\n",
      " 2. Feature  62: 0.074664\n",
      " 3. Feature  58: 0.059188\n",
      " 4. Feature  55: 0.053096\n",
      " 5. Feature  29: 0.048706\n",
      " 6. Feature  63: 0.047273\n",
      " 7. Feature  19: 0.044492\n",
      " 8. Feature  93: 0.043413\n",
      " 9. Feature  32: 0.041449\n",
      "10. Feature  31: 0.041381\n",
      "11. Feature 115: 0.037983\n",
      "12. Feature 109: 0.034307\n",
      "13. Feature  25: 0.029791\n",
      "14. Feature 108: 0.028307\n",
      "15. Feature   0: 0.027703\n",
      "16. Feature  57: 0.021936\n",
      "17. Feature  38: 0.017072\n",
      "18. Feature 103: 0.015982\n",
      "19. Feature   8: 0.015834\n",
      "20. Feature  66: 0.015419\n"
     ]
    }
   ],
   "source": [
    "\n",
    "print('\\n================ Feature Importance Analysis ================')\n",
    "feature_importance = classifier.feature_importances_\n",
    "top_features_idx = np.argsort(feature_importance)[-20:]  # Top 20 features\n",
    "\n",
    "print(\"Top 20 most important features:\")\n",
    "for i, idx in enumerate(reversed(top_features_idx)):\n",
    "    print(f\"{i+1:2d}. Feature {idx:3d}: {feature_importance[idx]:.6f}\")\n"
   ]
  },
  {
   "cell_type": "markdown",
   "id": "18154d76",
   "metadata": {},
   "source": [
    "# 15. Visualization\n"
   ]
  },
  {
   "cell_type": "markdown",
   "id": "35b05cfa",
   "metadata": {},
   "source": [
    "## Plot feature importance"
   ]
  },
  {
   "cell_type": "code",
   "execution_count": 38,
   "id": "cd3d0c56",
   "metadata": {},
   "outputs": [
    {
     "data": {
      "text/plain": [
       "<Figure size 1200x800 with 0 Axes>"
      ]
     },
     "metadata": {},
     "output_type": "display_data"
    },
    {
     "data": {
      "image/png": "[encoded data removed]",
      "text/plain": [
       "<Figure size 640x480 with 1 Axes>"
      ]
     },
     "metadata": {},
     "output_type": "display_data"
    }
   ],
   "source": [
    "\n",
    "plt.figure(figsize=(12, 8))\n",
    "try:\n",
    "    xgb.plot_importance(classifier, max_num_features=20, importance_type='gain')\n",
    "    plt.title('XGBoost Feature Importance (Top 20)')\n",
    "    plt.tight_layout()\n",
    "    plt.show()\n",
    "except Exception as e:\n",
    "    print(f\"Could not plot feature importance: {e}\")\n",
    "\n"
   ]
  },
  {
   "cell_type": "markdown",
   "id": "39b0fb73",
   "metadata": {},
   "source": [
    "## Plot training history if available"
   ]
  },
  {
   "cell_type": "code",
   "execution_count": 39,
   "id": "a2dc8521",
   "metadata": {},
   "outputs": [
    {
     "data": {
      "image/png": "[encoded data removed]",
      "text/plain": [
       "<Figure size 1200x600 with 1 Axes>"
      ]
     },
     "metadata": {},
     "output_type": "display_data"
    },
    {
     "name": "stdout",
     "output_type": "stream",
     "text": [
      "XGBoost NIDS model training and evaluation completed successfully!\n"
     ]
    }
   ],
   "source": [
    "\n",
    "try:\n",
    "    if hasattr(classifier, 'evals_result_') and classifier.evals_result_:\n",
    "        plt.figure(figsize=(12, 6))\n",
    "        \n",
    "        if 'validation_0' in classifier.evals_result_:\n",
    "            eval_results = classifier.evals_result_['validation_0']\n",
    "            metric_name = list(eval_results.keys())[0]\n",
    "            plt.plot(eval_results[metric_name], label=f'Validation {metric_name}')\n",
    "            plt.xlabel('Boosting Round')\n",
    "            plt.ylabel(metric_name)\n",
    "            plt.title('XGBoost Training Curve')\n",
    "            plt.legend()\n",
    "            plt.grid(True)\n",
    "            plt.show()\n",
    "except Exception as e:\n",
    "    print(f\"Could not plot training curve: {e}\")\n",
    "\n",
    "print(\"XGBoost NIDS model training and evaluation completed successfully!\")\n"
   ]
  },
  {
   "cell_type": "markdown",
   "id": "38e1d100",
   "metadata": {},
   "source": [
    "## Summary\n"
   ]
  },
  {
   "cell_type": "markdown",
   "id": "1626ec0a",
   "metadata": {},
   "source": [
    "\n",
    "\n",
    "\n",
    "This notebook implements a comprehensive Network Intrusion Detection System using XGBoost for multi-class classification on the NSL-KDD dataset. The pipeline includes:\n",
    "\n",
    "1. **Data Loading & Cleaning**: Handling missing values and duplicates\n",
    "2. **Attack Categorization**: Standardizing attack types into main categories\n",
    "3. **Feature Engineering**: One-hot encoding and feature scaling\n",
    "4. **Model Training**: XGBoost with optimized hyperparameters\n",
    "5. **Cross-Validation**: 5-fold stratified cross-validation\n",
    "6. **Class Balancing**: Sample weights for imbalanced classes\n",
    "7. **Comprehensive Evaluation**: Multiple metrics and per-class analysis\n",
    "8. **Visualization**: Feature importance and training curves\n",
    "\n",
    "The model achieves robust performance across different attack categories with detailed metrics for security analysis."
   ]
  }
 ],
 "metadata": {
  "kernelspec": {
   "display_name": "Python 3",
   "language": "python",
   "name": "python3"
  },
  "language_info": {
   "codemirror_mode": {
    "name": "ipython",
    "version": 3
   },
   "file_extension": ".py",
   "mimetype": "text/x-python",
   "name": "python",
   "nbconvert_exporter": "python",
   "pygments_lexer": "ipython3",
   "version": "3.12.2"
  }
 },
 "nbformat": 4,
 "nbformat_minor": 5
}
